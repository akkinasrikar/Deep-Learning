{
 "cells": [
  {
   "cell_type": "code",
   "execution_count": 1,
   "metadata": {},
   "outputs": [],
   "source": [
    "import tensorflow as tf\n",
    "import numpy as np\n",
    "import matplotlib as mpl\n",
    "import IPython.display as display\n",
    "import PIL.Image\n",
    "from tensorflow.keras.preprocessing import image\n",
    "import cv2"
   ]
  },
  {
   "cell_type": "code",
   "execution_count": 24,
   "metadata": {},
   "outputs": [],
   "source": [
    "dimage=cv2.imread('clg.jpg')"
   ]
  },
  {
   "cell_type": "code",
   "execution_count": 25,
   "metadata": {},
   "outputs": [],
   "source": [
    "def deprocess(img):\n",
    "    img = 255*(img + 1.0)/2.0\n",
    "    return tf.cast(img, tf.uint8)\n",
    "\n",
    "# Display an image\n",
    "def show(img):\n",
    "    display.display(PIL.Image.fromarray(np.array(img)))"
   ]
  },
  {
   "cell_type": "code",
   "execution_count": 26,
   "metadata": {},
   "outputs": [],
   "source": [
    "cv2.imshow(\"flight\",dimage)\n",
    "cv2.waitKey(0)\n",
    "cv2.destroyAllWindows()"
   ]
  },
  {
   "cell_type": "code",
   "execution_count": 27,
   "metadata": {},
   "outputs": [],
   "source": [
    "base_model = tf.keras.applications.InceptionV3(include_top=False, weights='imagenet')"
   ]
  },
  {
   "cell_type": "code",
   "execution_count": 28,
   "metadata": {},
   "outputs": [],
   "source": [
    "names=['mixed3','mixed5']\n",
    "layers=[base_model.get_layer(name).output for name in names]\n",
    "dream_model=tf.keras.Model(inputs=base_model.input,outputs=layers)"
   ]
  },
  {
   "cell_type": "code",
   "execution_count": 29,
   "metadata": {},
   "outputs": [],
   "source": [
    "def calculate_loss(img,model):\n",
    "    img_batch=tf.expand_dims(img,axis=0)\n",
    "    layer_activations=model(img_batch)\n",
    "    if len(layer_activations)==1:\n",
    "        layer_activations=[layer_activations]\n",
    "        \n",
    "    losses=[]\n",
    "    for activation in layer_activations:\n",
    "        loss=tf.math.reduce_mean(activation)\n",
    "        losses.append(loss)\n",
    "        \n",
    "    return tf.reduce_sum(losses)"
   ]
  },
  {
   "cell_type": "code",
   "execution_count": 30,
   "metadata": {},
   "outputs": [],
   "source": [
    "class Deepdream(tf.Module):\n",
    "    \n",
    "    def __init__(self,model):\n",
    "        self.model=model\n",
    "        \n",
    "    @tf.function(\n",
    "      input_signature=(\n",
    "        tf.TensorSpec(shape=[None,None,3], dtype=tf.float32),\n",
    "        tf.TensorSpec(shape=[], dtype=tf.int32),\n",
    "        tf.TensorSpec(shape=[], dtype=tf.float32),)\n",
    "       )\n",
    "    \n",
    "    def __call__(self,img,steps,step_size):\n",
    "        \n",
    "        print(\"Tracing the loss\")\n",
    "        \n",
    "        loss=tf.constant(0.0)\n",
    "        \n",
    "        for n in tf.range(steps):\n",
    "            \n",
    "            with tf.GradientTape() as tape:\n",
    "                \n",
    "                tape.watch(img)\n",
    "                loss=calculate_loss(img,self.model)\n",
    "                \n",
    "            gradients=tape.gradient(loss,img)\n",
    "            \n",
    "            gradients /= tf.math.reduce_std(gradients) + 1e-8\n",
    "            \n",
    "            img=img+gradients*step_size\n",
    "            \n",
    "            img=tf.clip_by_value(img,-1,1)\n",
    "            \n",
    "        return loss,img"
   ]
  },
  {
   "cell_type": "code",
   "execution_count": 31,
   "metadata": {},
   "outputs": [],
   "source": [
    "deepdream=Deepdream(dream_model)"
   ]
  },
  {
   "cell_type": "code",
   "execution_count": 32,
   "metadata": {},
   "outputs": [],
   "source": [
    "def run_deepdream(img,steps=100,step_size=0.01):\n",
    "    \n",
    "    img=tf.keras.applications.inception_v3.preprocess_input(img)\n",
    "    img=tf.convert_to_tensor(img)\n",
    "    step_size = tf.convert_to_tensor(step_size)\n",
    "    steps_remaining = steps\n",
    "    step = 0\n",
    "    while steps_remaining:\n",
    "        if steps_remaining>100:\n",
    "            run_steps = tf.constant(100)\n",
    "        else:\n",
    "            run_steps = tf.constant(steps_remaining)\n",
    "        steps_remaining -= run_steps\n",
    "        step += run_steps\n",
    "        \n",
    "        loss,img=deepdream(img,run_steps,tf.constant(step_size))\n",
    "        \n",
    "        #display.clear_output(wait=True)\n",
    "        \n",
    "        show(deprocess(img))\n",
    "        \n",
    "        print(\"Step {}, loss {}\".format(step, loss))\n",
    "        \n",
    "    result = deprocess(img)\n",
    "    #display.clear_output(wait=True)\n",
    "    show(result)\n",
    "\n",
    "    return result\n",
    "        \n",
    "    "
   ]
  },
  {
   "cell_type": "code",
   "execution_count": null,
   "metadata": {},
   "outputs": [],
   "source": [
    "dreamimage=run_deepdream(img=dimage,steps=500,step_size=0.01)"
   ]
  }
 ],
 "metadata": {
  "kernelspec": {
   "display_name": "Python 3",
   "language": "python",
   "name": "python3"
  },
  "language_info": {
   "codemirror_mode": {
    "name": "ipython",
    "version": 3
   },
   "file_extension": ".py",
   "mimetype": "text/x-python",
   "name": "python",
   "nbconvert_exporter": "python",
   "pygments_lexer": "ipython3",
   "version": "3.7.6"
  }
 },
 "nbformat": 4,
 "nbformat_minor": 4
}
