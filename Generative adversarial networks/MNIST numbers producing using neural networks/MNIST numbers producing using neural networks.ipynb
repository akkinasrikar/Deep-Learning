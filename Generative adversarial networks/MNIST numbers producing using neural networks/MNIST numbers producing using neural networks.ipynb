{
 "cells": [
  {
   "cell_type": "code",
   "execution_count": 1,
   "metadata": {},
   "outputs": [],
   "source": [
    "import numpy as np\n",
    "import matplotlib.pyplot as plt\n",
    "from matplotlib import style\n",
    "style.use(\"fivethirtyeight\")\n",
    "from tensorflow.keras.datasets import mnist\n",
    "from tensorflow.keras import datasets"
   ]
  },
  {
   "cell_type": "code",
   "execution_count": 2,
   "metadata": {},
   "outputs": [
    {
     "data": {
      "text/plain": [
       "\"\\ncifar=datasets.cifar10\\n(x_train,y_train),(x_test,y_test)=cifar.load_data()\\nclass_name = [['airplane'],['car'],['bird'],['cat'],['deer'],['dog'],['frog'],['horse']\\n              ,['ship'],['truck']]\\nclass_name=np.array(class_name)\\nclass_name.reshape(10,1)\""
      ]
     },
     "execution_count": 2,
     "metadata": {},
     "output_type": "execute_result"
    }
   ],
   "source": [
    "(x_train,y_train),(x_test,y_test)=mnist.load_data()\n",
    "'''\n",
    "cifar=datasets.cifar10\n",
    "(x_train,y_train),(x_test,y_test)=cifar.load_data()\n",
    "class_name = [['airplane'],['car'],['bird'],['cat'],['deer'],['dog'],['frog'],['horse']\n",
    "              ,['ship'],['truck']]\n",
    "class_name=np.array(class_name)\n",
    "class_name.reshape(10,1)'''"
   ]
  },
  {
   "cell_type": "code",
   "execution_count": 3,
   "metadata": {},
   "outputs": [
    {
     "data": {
      "image/png": "[encoded data removed]",
      "text/plain": [
       "<Figure size 432x288 with 1 Axes>"
      ]
     },
     "metadata": {},
     "output_type": "display_data"
    }
   ],
   "source": [
    "plt.imshow(x_train[96])\n",
    "plt.grid(False)"
   ]
  },
  {
   "cell_type": "code",
   "execution_count": 4,
   "metadata": {},
   "outputs": [
    {
     "data": {
      "text/plain": [
       "(60000,)"
      ]
     },
     "execution_count": 4,
     "metadata": {},
     "output_type": "execute_result"
    }
   ],
   "source": [
    "y_train=y_train.reshape(len(y_train),)\n",
    "y_train.shape"
   ]
  },
  {
   "cell_type": "code",
   "execution_count": 5,
   "metadata": {},
   "outputs": [
    {
     "name": "stdout",
     "output_type": "stream",
     "text": [
      "(6742, 28, 28)\n"
     ]
    }
   ],
   "source": [
    "only_zeros=x_train[y_train==1]\n",
    "print(only_zeros.shape)"
   ]
  },
  {
   "cell_type": "code",
   "execution_count": 6,
   "metadata": {},
   "outputs": [],
   "source": [
    "import tensorflow as tf\n",
    "from tensorflow.keras.layers import Flatten,Dense,Reshape\n",
    "from tensorflow.keras.models import Sequential"
   ]
  },
  {
   "cell_type": "code",
   "execution_count": 7,
   "metadata": {},
   "outputs": [],
   "source": [
    "discriminator=Sequential()\n",
    "\n",
    "discriminator.add(Flatten(input_shape=[28,28]))\n",
    "discriminator.add(Dense(500,activation='relu'))\n",
    "discriminator.add(Dense(450,activation='relu'))\n",
    "discriminator.add(Dense(200,activation='relu'))\n",
    "discriminator.add(Dense(100,activation='relu'))\n",
    "discriminator.add(Dense(1,activation='sigmoid'))\n",
    "\n",
    "discriminator.compile(loss='binary_crossentropy',optimizer='adam')"
   ]
  },
  {
   "cell_type": "code",
   "execution_count": 8,
   "metadata": {},
   "outputs": [
    {
     "name": "stdout",
     "output_type": "stream",
     "text": [
      "Model: \"sequential\"\n",
      "_________________________________________________________________\n",
      "Layer (type)                 Output Shape              Param #   \n",
      "=================================================================\n",
      "flatten (Flatten)            (None, 784)               0         \n",
      "_________________________________________________________________\n",
      "dense (Dense)                (None, 500)               392500    \n",
      "_________________________________________________________________\n",
      "dense_1 (Dense)              (None, 450)               225450    \n",
      "_________________________________________________________________\n",
      "dense_2 (Dense)              (None, 200)               90200     \n",
      "_________________________________________________________________\n",
      "dense_3 (Dense)              (None, 100)               20100     \n",
      "_________________________________________________________________\n",
      "dense_4 (Dense)              (None, 1)                 101       \n",
      "=================================================================\n",
      "Total params: 728,351\n",
      "Trainable params: 728,351\n",
      "Non-trainable params: 0\n",
      "_________________________________________________________________\n"
     ]
    }
   ],
   "source": [
    "discriminator.summary()"
   ]
  },
  {
   "cell_type": "code",
   "execution_count": 9,
   "metadata": {},
   "outputs": [],
   "source": [
    "coding_size=300\n",
    "\n",
    "generator=Sequential()\n",
    "generator.add(Dense(300,activation='relu',input_shape=[coding_size]))\n",
    "generator.add(Dense(500,activation='relu'))\n",
    "generator.add(Dense(1000,activation='relu'))\n",
    "generator.add(Dense(784,activation='relu'))\n",
    "generator.add(Reshape([28,28]))"
   ]
  },
  {
   "cell_type": "code",
   "execution_count": 10,
   "metadata": {},
   "outputs": [
    {
     "name": "stdout",
     "output_type": "stream",
     "text": [
      "Model: \"sequential_1\"\n",
      "_________________________________________________________________\n",
      "Layer (type)                 Output Shape              Param #   \n",
      "=================================================================\n",
      "dense_5 (Dense)              (None, 300)               90300     \n",
      "_________________________________________________________________\n",
      "dense_6 (Dense)              (None, 500)               150500    \n",
      "_________________________________________________________________\n",
      "dense_7 (Dense)              (None, 1000)              501000    \n",
      "_________________________________________________________________\n",
      "dense_8 (Dense)              (None, 784)               784784    \n",
      "_________________________________________________________________\n",
      "reshape (Reshape)            (None, 28, 28)            0         \n",
      "=================================================================\n",
      "Total params: 1,526,584\n",
      "Trainable params: 1,526,584\n",
      "Non-trainable params: 0\n",
      "_________________________________________________________________\n"
     ]
    }
   ],
   "source": [
    "generator.summary()"
   ]
  },
  {
   "cell_type": "code",
   "execution_count": 11,
   "metadata": {},
   "outputs": [],
   "source": [
    "GAN=Sequential([generator,discriminator])"
   ]
  },
  {
   "cell_type": "code",
   "execution_count": 12,
   "metadata": {},
   "outputs": [],
   "source": [
    "discriminator.trainable=False"
   ]
  },
  {
   "cell_type": "code",
   "execution_count": 13,
   "metadata": {},
   "outputs": [],
   "source": [
    "GAN.compile(loss='binary_crossentropy',optimizer='adam')"
   ]
  },
  {
   "cell_type": "code",
   "execution_count": 14,
   "metadata": {},
   "outputs": [
    {
     "name": "stdout",
     "output_type": "stream",
     "text": [
      "Model: \"sequential_2\"\n",
      "_________________________________________________________________\n",
      "Layer (type)                 Output Shape              Param #   \n",
      "=================================================================\n",
      "sequential_1 (Sequential)    (None, 28, 28)            1526584   \n",
      "_________________________________________________________________\n",
      "sequential (Sequential)      (None, 1)                 728351    \n",
      "=================================================================\n",
      "Total params: 2,254,935\n",
      "Trainable params: 1,526,584\n",
      "Non-trainable params: 728,351\n",
      "_________________________________________________________________\n"
     ]
    }
   ],
   "source": [
    "GAN.summary()"
   ]
  },
  {
   "cell_type": "code",
   "execution_count": 15,
   "metadata": {},
   "outputs": [
    {
     "name": "stdout",
     "output_type": "stream",
     "text": [
      "<ShuffleDataset shapes: (28, 28), types: tf.uint8>\n"
     ]
    }
   ],
   "source": [
    "batch_size=32\n",
    "my_dataset=only_zeros\n",
    "dataset=tf.data.Dataset.from_tensor_slices(my_dataset).shuffle(buffer_size=1000)\n",
    "print(dataset)"
   ]
  },
  {
   "cell_type": "code",
   "execution_count": 16,
   "metadata": {},
   "outputs": [],
   "source": [
    "dataset=dataset.batch(batch_size=batch_size,drop_remainder=True).prefetch(1)"
   ]
  },
  {
   "cell_type": "code",
   "execution_count": 17,
   "metadata": {},
   "outputs": [
    {
     "name": "stdout",
     "output_type": "stream",
     "text": [
      "current epoch 1\n",
      "current batch is 50 and current epoch is 1\n",
      "current batch is 100 and current epoch is 1\n",
      "current batch is 150 and current epoch is 1\n",
      "current batch is 200 and current epoch is 1\n",
      "current epoch 2\n",
      "current batch is 50 and current epoch is 2\n",
      "current batch is 100 and current epoch is 2\n",
      "current batch is 150 and current epoch is 2\n",
      "current batch is 200 and current epoch is 2\n",
      "current epoch 3\n",
      "current batch is 50 and current epoch is 3\n",
      "current batch is 100 and current epoch is 3\n",
      "current batch is 150 and current epoch is 3\n",
      "current batch is 200 and current epoch is 3\n",
      "current epoch 4\n",
      "current batch is 50 and current epoch is 4\n",
      "current batch is 100 and current epoch is 4\n",
      "current batch is 150 and current epoch is 4\n",
      "current batch is 200 and current epoch is 4\n",
      "current epoch 5\n",
      "current batch is 50 and current epoch is 5\n",
      "current batch is 100 and current epoch is 5\n",
      "current batch is 150 and current epoch is 5\n",
      "current batch is 200 and current epoch is 5\n",
      "current epoch 6\n",
      "current batch is 50 and current epoch is 6\n",
      "current batch is 100 and current epoch is 6\n",
      "current batch is 150 and current epoch is 6\n",
      "current batch is 200 and current epoch is 6\n",
      "current epoch 7\n",
      "current batch is 50 and current epoch is 7\n",
      "current batch is 100 and current epoch is 7\n",
      "current batch is 150 and current epoch is 7\n",
      "current batch is 200 and current epoch is 7\n",
      "current epoch 8\n",
      "current batch is 50 and current epoch is 8\n",
      "current batch is 100 and current epoch is 8\n",
      "current batch is 150 and current epoch is 8\n",
      "current batch is 200 and current epoch is 8\n",
      "current epoch 9\n",
      "current batch is 50 and current epoch is 9\n",
      "current batch is 100 and current epoch is 9\n",
      "current batch is 150 and current epoch is 9\n",
      "current batch is 200 and current epoch is 9\n",
      "current epoch 10\n",
      "current batch is 50 and current epoch is 10\n",
      "current batch is 100 and current epoch is 10\n",
      "current batch is 150 and current epoch is 10\n",
      "current batch is 200 and current epoch is 10\n",
      "current epoch 11\n",
      "current batch is 50 and current epoch is 11\n",
      "current batch is 100 and current epoch is 11\n",
      "current batch is 150 and current epoch is 11\n",
      "current batch is 200 and current epoch is 11\n",
      "current epoch 12\n",
      "current batch is 50 and current epoch is 12\n",
      "current batch is 100 and current epoch is 12\n",
      "current batch is 150 and current epoch is 12\n",
      "current batch is 200 and current epoch is 12\n",
      "current epoch 13\n",
      "current batch is 50 and current epoch is 13\n",
      "current batch is 100 and current epoch is 13\n",
      "current batch is 150 and current epoch is 13\n",
      "current batch is 200 and current epoch is 13\n",
      "current epoch 14\n",
      "current batch is 50 and current epoch is 14\n",
      "current batch is 100 and current epoch is 14\n",
      "current batch is 150 and current epoch is 14\n",
      "current batch is 200 and current epoch is 14\n",
      "current epoch 15\n",
      "current batch is 50 and current epoch is 15\n",
      "current batch is 100 and current epoch is 15\n",
      "current batch is 150 and current epoch is 15\n",
      "current batch is 200 and current epoch is 15\n",
      "current epoch 16\n",
      "current batch is 50 and current epoch is 16\n",
      "current batch is 100 and current epoch is 16\n",
      "current batch is 150 and current epoch is 16\n",
      "current batch is 200 and current epoch is 16\n",
      "current epoch 17\n",
      "current batch is 50 and current epoch is 17\n",
      "current batch is 100 and current epoch is 17\n",
      "current batch is 150 and current epoch is 17\n",
      "current batch is 200 and current epoch is 17\n",
      "current epoch 18\n",
      "current batch is 50 and current epoch is 18\n",
      "current batch is 100 and current epoch is 18\n",
      "current batch is 150 and current epoch is 18\n",
      "current batch is 200 and current epoch is 18\n",
      "current epoch 19\n",
      "current batch is 50 and current epoch is 19\n",
      "current batch is 100 and current epoch is 19\n",
      "current batch is 150 and current epoch is 19\n",
      "current batch is 200 and current epoch is 19\n",
      "current epoch 20\n",
      "current batch is 50 and current epoch is 20\n",
      "current batch is 100 and current epoch is 20\n",
      "current batch is 150 and current epoch is 20\n",
      "current batch is 200 and current epoch is 20\n",
      "current epoch 21\n",
      "current batch is 50 and current epoch is 21\n",
      "current batch is 100 and current epoch is 21\n",
      "current batch is 150 and current epoch is 21\n",
      "current batch is 200 and current epoch is 21\n",
      "current epoch 22\n",
      "current batch is 50 and current epoch is 22\n",
      "current batch is 100 and current epoch is 22\n",
      "current batch is 150 and current epoch is 22\n",
      "current batch is 200 and current epoch is 22\n",
      "current epoch 23\n",
      "current batch is 50 and current epoch is 23\n",
      "current batch is 100 and current epoch is 23\n",
      "current batch is 150 and current epoch is 23\n",
      "current batch is 200 and current epoch is 23\n",
      "current epoch 24\n",
      "current batch is 50 and current epoch is 24\n",
      "current batch is 100 and current epoch is 24\n",
      "current batch is 150 and current epoch is 24\n",
      "current batch is 200 and current epoch is 24\n",
      "current epoch 25\n",
      "current batch is 50 and current epoch is 25\n",
      "current batch is 100 and current epoch is 25\n",
      "current batch is 150 and current epoch is 25\n",
      "current batch is 200 and current epoch is 25\n",
      "current epoch 26\n",
      "current batch is 50 and current epoch is 26\n",
      "current batch is 100 and current epoch is 26\n",
      "current batch is 150 and current epoch is 26\n",
      "current batch is 200 and current epoch is 26\n",
      "current epoch 27\n",
      "current batch is 50 and current epoch is 27\n",
      "current batch is 100 and current epoch is 27\n",
      "current batch is 150 and current epoch is 27\n",
      "current batch is 200 and current epoch is 27\n",
      "current epoch 28\n",
      "current batch is 50 and current epoch is 28\n",
      "current batch is 100 and current epoch is 28\n",
      "current batch is 150 and current epoch is 28\n",
      "current batch is 200 and current epoch is 28\n",
      "current epoch 29\n",
      "current batch is 50 and current epoch is 29\n",
      "current batch is 100 and current epoch is 29\n",
      "current batch is 150 and current epoch is 29\n",
      "current batch is 200 and current epoch is 29\n",
      "current epoch 30\n",
      "current batch is 50 and current epoch is 30\n",
      "current batch is 100 and current epoch is 30\n",
      "current batch is 150 and current epoch is 30\n",
      "current batch is 200 and current epoch is 30\n",
      "current epoch 31\n",
      "current batch is 50 and current epoch is 31\n",
      "current batch is 100 and current epoch is 31\n",
      "current batch is 150 and current epoch is 31\n",
      "current batch is 200 and current epoch is 31\n",
      "current epoch 32\n",
      "current batch is 50 and current epoch is 32\n",
      "current batch is 100 and current epoch is 32\n",
      "current batch is 150 and current epoch is 32\n",
      "current batch is 200 and current epoch is 32\n",
      "current epoch 33\n",
      "current batch is 50 and current epoch is 33\n",
      "current batch is 100 and current epoch is 33\n",
      "current batch is 150 and current epoch is 33\n",
      "current batch is 200 and current epoch is 33\n",
      "current epoch 34\n",
      "current batch is 50 and current epoch is 34\n",
      "current batch is 100 and current epoch is 34\n",
      "current batch is 150 and current epoch is 34\n",
      "current batch is 200 and current epoch is 34\n",
      "current epoch 35\n",
      "current batch is 50 and current epoch is 35\n",
      "current batch is 100 and current epoch is 35\n",
      "current batch is 150 and current epoch is 35\n",
      "current batch is 200 and current epoch is 35\n",
      "current epoch 36\n",
      "current batch is 50 and current epoch is 36\n",
      "current batch is 100 and current epoch is 36\n",
      "current batch is 150 and current epoch is 36\n",
      "current batch is 200 and current epoch is 36\n",
      "current epoch 37\n",
      "current batch is 50 and current epoch is 37\n",
      "current batch is 100 and current epoch is 37\n",
      "current batch is 150 and current epoch is 37\n",
      "current batch is 200 and current epoch is 37\n",
      "current epoch 38\n",
      "current batch is 50 and current epoch is 38\n",
      "current batch is 100 and current epoch is 38\n",
      "current batch is 150 and current epoch is 38\n",
      "current batch is 200 and current epoch is 38\n",
      "current epoch 39\n",
      "current batch is 50 and current epoch is 39\n",
      "current batch is 100 and current epoch is 39\n",
      "current batch is 150 and current epoch is 39\n",
      "current batch is 200 and current epoch is 39\n",
      "current epoch 40\n",
      "current batch is 50 and current epoch is 40\n",
      "current batch is 100 and current epoch is 40\n",
      "current batch is 150 and current epoch is 40\n",
      "current batch is 200 and current epoch is 40\n",
      "current epoch 41\n",
      "current batch is 50 and current epoch is 41\n",
      "current batch is 100 and current epoch is 41\n",
      "current batch is 150 and current epoch is 41\n",
      "current batch is 200 and current epoch is 41\n",
      "current epoch 42\n",
      "current batch is 50 and current epoch is 42\n",
      "current batch is 100 and current epoch is 42\n",
      "current batch is 150 and current epoch is 42\n",
      "current batch is 200 and current epoch is 42\n",
      "current epoch 43\n"
     ]
    },
    {
     "name": "stdout",
     "output_type": "stream",
     "text": [
      "current batch is 50 and current epoch is 43\n",
      "current batch is 100 and current epoch is 43\n",
      "current batch is 150 and current epoch is 43\n",
      "current batch is 200 and current epoch is 43\n",
      "current epoch 44\n",
      "current batch is 50 and current epoch is 44\n",
      "current batch is 100 and current epoch is 44\n",
      "current batch is 150 and current epoch is 44\n",
      "current batch is 200 and current epoch is 44\n",
      "current epoch 45\n",
      "current batch is 50 and current epoch is 45\n",
      "current batch is 100 and current epoch is 45\n",
      "current batch is 150 and current epoch is 45\n",
      "current batch is 200 and current epoch is 45\n",
      "current epoch 46\n",
      "current batch is 50 and current epoch is 46\n",
      "current batch is 100 and current epoch is 46\n",
      "current batch is 150 and current epoch is 46\n",
      "current batch is 200 and current epoch is 46\n",
      "current epoch 47\n",
      "current batch is 50 and current epoch is 47\n",
      "current batch is 100 and current epoch is 47\n",
      "current batch is 150 and current epoch is 47\n",
      "current batch is 200 and current epoch is 47\n",
      "current epoch 48\n",
      "current batch is 50 and current epoch is 48\n",
      "current batch is 100 and current epoch is 48\n",
      "current batch is 150 and current epoch is 48\n",
      "current batch is 200 and current epoch is 48\n",
      "current epoch 49\n",
      "current batch is 50 and current epoch is 49\n",
      "current batch is 100 and current epoch is 49\n",
      "current batch is 150 and current epoch is 49\n",
      "current batch is 200 and current epoch is 49\n",
      "current epoch 50\n",
      "current batch is 50 and current epoch is 50\n",
      "current batch is 100 and current epoch is 50\n",
      "current batch is 150 and current epoch is 50\n",
      "current batch is 200 and current epoch is 50\n",
      "current epoch 51\n",
      "current batch is 50 and current epoch is 51\n",
      "current batch is 100 and current epoch is 51\n",
      "current batch is 150 and current epoch is 51\n",
      "current batch is 200 and current epoch is 51\n",
      "current epoch 52\n",
      "current batch is 50 and current epoch is 52\n",
      "current batch is 100 and current epoch is 52\n",
      "current batch is 150 and current epoch is 52\n",
      "current batch is 200 and current epoch is 52\n",
      "current epoch 53\n",
      "current batch is 50 and current epoch is 53\n",
      "current batch is 100 and current epoch is 53\n",
      "current batch is 150 and current epoch is 53\n",
      "current batch is 200 and current epoch is 53\n",
      "current epoch 54\n",
      "current batch is 50 and current epoch is 54\n",
      "current batch is 100 and current epoch is 54\n",
      "current batch is 150 and current epoch is 54\n",
      "current batch is 200 and current epoch is 54\n",
      "current epoch 55\n",
      "current batch is 50 and current epoch is 55\n",
      "current batch is 100 and current epoch is 55\n",
      "current batch is 150 and current epoch is 55\n",
      "current batch is 200 and current epoch is 55\n",
      "current epoch 56\n",
      "current batch is 50 and current epoch is 56\n",
      "current batch is 100 and current epoch is 56\n",
      "current batch is 150 and current epoch is 56\n",
      "current batch is 200 and current epoch is 56\n",
      "current epoch 57\n",
      "current batch is 50 and current epoch is 57\n",
      "current batch is 100 and current epoch is 57\n",
      "current batch is 150 and current epoch is 57\n",
      "current batch is 200 and current epoch is 57\n",
      "current epoch 58\n",
      "current batch is 50 and current epoch is 58\n",
      "current batch is 100 and current epoch is 58\n",
      "current batch is 150 and current epoch is 58\n",
      "current batch is 200 and current epoch is 58\n",
      "current epoch 59\n",
      "current batch is 50 and current epoch is 59\n",
      "current batch is 100 and current epoch is 59\n",
      "current batch is 150 and current epoch is 59\n",
      "current batch is 200 and current epoch is 59\n",
      "current epoch 60\n",
      "current batch is 50 and current epoch is 60\n",
      "current batch is 100 and current epoch is 60\n",
      "current batch is 150 and current epoch is 60\n",
      "current batch is 200 and current epoch is 60\n",
      "current epoch 61\n",
      "current batch is 50 and current epoch is 61\n",
      "current batch is 100 and current epoch is 61\n",
      "current batch is 150 and current epoch is 61\n",
      "current batch is 200 and current epoch is 61\n",
      "current epoch 62\n",
      "current batch is 50 and current epoch is 62\n",
      "current batch is 100 and current epoch is 62\n",
      "current batch is 150 and current epoch is 62\n",
      "current batch is 200 and current epoch is 62\n",
      "current epoch 63\n",
      "current batch is 50 and current epoch is 63\n",
      "current batch is 100 and current epoch is 63\n",
      "current batch is 150 and current epoch is 63\n",
      "current batch is 200 and current epoch is 63\n",
      "current epoch 64\n",
      "current batch is 50 and current epoch is 64\n",
      "current batch is 100 and current epoch is 64\n",
      "current batch is 150 and current epoch is 64\n",
      "current batch is 200 and current epoch is 64\n",
      "current epoch 65\n",
      "current batch is 50 and current epoch is 65\n",
      "current batch is 100 and current epoch is 65\n",
      "current batch is 150 and current epoch is 65\n",
      "current batch is 200 and current epoch is 65\n",
      "current epoch 66\n",
      "current batch is 50 and current epoch is 66\n",
      "current batch is 100 and current epoch is 66\n",
      "current batch is 150 and current epoch is 66\n",
      "current batch is 200 and current epoch is 66\n",
      "current epoch 67\n",
      "current batch is 50 and current epoch is 67\n",
      "current batch is 100 and current epoch is 67\n",
      "current batch is 150 and current epoch is 67\n",
      "current batch is 200 and current epoch is 67\n",
      "current epoch 68\n",
      "current batch is 50 and current epoch is 68\n",
      "current batch is 100 and current epoch is 68\n",
      "current batch is 150 and current epoch is 68\n",
      "current batch is 200 and current epoch is 68\n",
      "current epoch 69\n",
      "current batch is 50 and current epoch is 69\n",
      "current batch is 100 and current epoch is 69\n",
      "current batch is 150 and current epoch is 69\n",
      "current batch is 200 and current epoch is 69\n",
      "current epoch 70\n",
      "current batch is 50 and current epoch is 70\n",
      "current batch is 100 and current epoch is 70\n",
      "current batch is 150 and current epoch is 70\n",
      "current batch is 200 and current epoch is 70\n",
      "current epoch 71\n",
      "current batch is 50 and current epoch is 71\n",
      "current batch is 100 and current epoch is 71\n",
      "current batch is 150 and current epoch is 71\n",
      "current batch is 200 and current epoch is 71\n",
      "current epoch 72\n",
      "current batch is 50 and current epoch is 72\n",
      "current batch is 100 and current epoch is 72\n",
      "current batch is 150 and current epoch is 72\n",
      "current batch is 200 and current epoch is 72\n",
      "current epoch 73\n",
      "current batch is 50 and current epoch is 73\n",
      "current batch is 100 and current epoch is 73\n",
      "current batch is 150 and current epoch is 73\n",
      "current batch is 200 and current epoch is 73\n",
      "current epoch 74\n",
      "current batch is 50 and current epoch is 74\n",
      "current batch is 100 and current epoch is 74\n",
      "current batch is 150 and current epoch is 74\n",
      "current batch is 200 and current epoch is 74\n",
      "current epoch 75\n",
      "current batch is 50 and current epoch is 75\n",
      "current batch is 100 and current epoch is 75\n",
      "current batch is 150 and current epoch is 75\n",
      "current batch is 200 and current epoch is 75\n",
      "current epoch 76\n",
      "current batch is 50 and current epoch is 76\n",
      "current batch is 100 and current epoch is 76\n",
      "current batch is 150 and current epoch is 76\n",
      "current batch is 200 and current epoch is 76\n",
      "current epoch 77\n",
      "current batch is 50 and current epoch is 77\n",
      "current batch is 100 and current epoch is 77\n",
      "current batch is 150 and current epoch is 77\n",
      "current batch is 200 and current epoch is 77\n",
      "current epoch 78\n",
      "current batch is 50 and current epoch is 78\n",
      "current batch is 100 and current epoch is 78\n",
      "current batch is 150 and current epoch is 78\n",
      "current batch is 200 and current epoch is 78\n",
      "current epoch 79\n",
      "current batch is 50 and current epoch is 79\n",
      "current batch is 100 and current epoch is 79\n",
      "current batch is 150 and current epoch is 79\n",
      "current batch is 200 and current epoch is 79\n",
      "current epoch 80\n",
      "current batch is 50 and current epoch is 80\n",
      "current batch is 100 and current epoch is 80\n",
      "current batch is 150 and current epoch is 80\n",
      "current batch is 200 and current epoch is 80\n",
      "current epoch 81\n",
      "current batch is 50 and current epoch is 81\n",
      "current batch is 100 and current epoch is 81\n",
      "current batch is 150 and current epoch is 81\n",
      "current batch is 200 and current epoch is 81\n",
      "current epoch 82\n",
      "current batch is 50 and current epoch is 82\n",
      "current batch is 100 and current epoch is 82\n",
      "current batch is 150 and current epoch is 82\n",
      "current batch is 200 and current epoch is 82\n",
      "current epoch 83\n",
      "current batch is 50 and current epoch is 83\n",
      "current batch is 100 and current epoch is 83\n",
      "current batch is 150 and current epoch is 83\n",
      "current batch is 200 and current epoch is 83\n",
      "current epoch 84\n",
      "current batch is 50 and current epoch is 84\n",
      "current batch is 100 and current epoch is 84\n",
      "current batch is 150 and current epoch is 84\n",
      "current batch is 200 and current epoch is 84\n"
     ]
    },
    {
     "name": "stdout",
     "output_type": "stream",
     "text": [
      "current epoch 85\n",
      "current batch is 50 and current epoch is 85\n",
      "current batch is 100 and current epoch is 85\n",
      "current batch is 150 and current epoch is 85\n",
      "current batch is 200 and current epoch is 85\n",
      "current epoch 86\n",
      "current batch is 50 and current epoch is 86\n",
      "current batch is 100 and current epoch is 86\n",
      "current batch is 150 and current epoch is 86\n",
      "current batch is 200 and current epoch is 86\n",
      "current epoch 87\n",
      "current batch is 50 and current epoch is 87\n",
      "current batch is 100 and current epoch is 87\n",
      "current batch is 150 and current epoch is 87\n",
      "current batch is 200 and current epoch is 87\n",
      "current epoch 88\n",
      "current batch is 50 and current epoch is 88\n",
      "current batch is 100 and current epoch is 88\n",
      "current batch is 150 and current epoch is 88\n",
      "current batch is 200 and current epoch is 88\n",
      "current epoch 89\n",
      "current batch is 50 and current epoch is 89\n",
      "current batch is 100 and current epoch is 89\n",
      "current batch is 150 and current epoch is 89\n",
      "current batch is 200 and current epoch is 89\n",
      "current epoch 90\n",
      "current batch is 50 and current epoch is 90\n",
      "current batch is 100 and current epoch is 90\n",
      "current batch is 150 and current epoch is 90\n",
      "current batch is 200 and current epoch is 90\n",
      "current epoch 91\n",
      "current batch is 50 and current epoch is 91\n",
      "current batch is 100 and current epoch is 91\n",
      "current batch is 150 and current epoch is 91\n",
      "current batch is 200 and current epoch is 91\n",
      "current epoch 92\n",
      "current batch is 50 and current epoch is 92\n",
      "current batch is 100 and current epoch is 92\n",
      "current batch is 150 and current epoch is 92\n",
      "current batch is 200 and current epoch is 92\n",
      "current epoch 93\n",
      "current batch is 50 and current epoch is 93\n",
      "current batch is 100 and current epoch is 93\n",
      "current batch is 150 and current epoch is 93\n",
      "current batch is 200 and current epoch is 93\n",
      "current epoch 94\n",
      "current batch is 50 and current epoch is 94\n",
      "current batch is 100 and current epoch is 94\n",
      "current batch is 150 and current epoch is 94\n",
      "current batch is 200 and current epoch is 94\n",
      "current epoch 95\n",
      "current batch is 50 and current epoch is 95\n",
      "current batch is 100 and current epoch is 95\n",
      "current batch is 150 and current epoch is 95\n",
      "current batch is 200 and current epoch is 95\n",
      "current epoch 96\n",
      "current batch is 50 and current epoch is 96\n",
      "current batch is 100 and current epoch is 96\n",
      "current batch is 150 and current epoch is 96\n",
      "current batch is 200 and current epoch is 96\n",
      "current epoch 97\n",
      "current batch is 50 and current epoch is 97\n",
      "current batch is 100 and current epoch is 97\n",
      "current batch is 150 and current epoch is 97\n",
      "current batch is 200 and current epoch is 97\n",
      "current epoch 98\n",
      "current batch is 50 and current epoch is 98\n",
      "current batch is 100 and current epoch is 98\n",
      "current batch is 150 and current epoch is 98\n",
      "current batch is 200 and current epoch is 98\n",
      "current epoch 99\n",
      "current batch is 50 and current epoch is 99\n",
      "current batch is 100 and current epoch is 99\n",
      "current batch is 150 and current epoch is 99\n",
      "current batch is 200 and current epoch is 99\n",
      "current epoch 100\n",
      "current batch is 50 and current epoch is 100\n",
      "current batch is 100 and current epoch is 100\n",
      "current batch is 150 and current epoch is 100\n",
      "current batch is 200 and current epoch is 100\n"
     ]
    }
   ],
   "source": [
    "c=100\n",
    "generator,discriminator=GAN.layers\n",
    "\n",
    "for epoch in range(c):\n",
    "    \n",
    "    print(f\"current epoch {epoch+1}\")\n",
    "    i=0\n",
    "    for batch in dataset:\n",
    "        \n",
    "        i=i+1\n",
    "        \n",
    "        if i%50==0:\n",
    "            \n",
    "            print(f\"current batch is {i} and current epoch is {epoch+1}\")\n",
    "            \n",
    "        # discriminator\n",
    "        \n",
    "        noise=tf.random.normal(shape=[batch_size,coding_size])\n",
    "        \n",
    "        gen_images=generator(noise)\n",
    "        \n",
    "        image_fake_vs_real=tf.concat([gen_images,tf.dtypes.cast(batch,tf.float32)],axis=0)\n",
    "        \n",
    "        y1=tf.constant([[0.0]]*batch_size+[[1.0]]*batch_size)\n",
    "        \n",
    "        discriminator.trainable=True\n",
    "        \n",
    "        discriminator.train_on_batch(image_fake_vs_real,y1)\n",
    "        \n",
    "        #Generator \n",
    "        \n",
    "        noise=tf.random.normal(shape=[batch_size,coding_size])\n",
    "        \n",
    "        y2=tf.constant([[1.0]]*batch_size)\n",
    "        \n",
    "        discriminator.trainable=False\n",
    "        \n",
    "        GAN.train_on_batch(noise,y2)"
   ]
  },
  {
   "cell_type": "code",
   "execution_count": 18,
   "metadata": {},
   "outputs": [],
   "source": [
    "checking_noise=tf.random.normal([10,coding_size])"
   ]
  },
  {
   "cell_type": "code",
   "execution_count": 19,
   "metadata": {},
   "outputs": [
    {
     "data": {
      "text/plain": [
       "TensorShape([10, 300])"
      ]
     },
     "execution_count": 19,
     "metadata": {},
     "output_type": "execute_result"
    }
   ],
   "source": [
    "checking_noise.shape"
   ]
  },
  {
   "cell_type": "code",
   "execution_count": 20,
   "metadata": {},
   "outputs": [
    {
     "data": {
      "image/png": "[encoded data removed]",
      "text/plain": [
       "<Figure size 432x288 with 1 Axes>"
      ]
     },
     "metadata": {},
     "output_type": "display_data"
    }
   ],
   "source": [
    "plt.imshow(checking_noise)\n",
    "plt.grid(False)"
   ]
  },
  {
   "cell_type": "code",
   "execution_count": 21,
   "metadata": {},
   "outputs": [
    {
     "data": {
      "text/plain": [
       "TensorShape([10, 28, 28])"
      ]
     },
     "execution_count": 21,
     "metadata": {},
     "output_type": "execute_result"
    }
   ],
   "source": [
    "gan_images=generator(checking_noise)\n",
    "gan_images.shape"
   ]
  },
  {
   "cell_type": "code",
   "execution_count": 23,
   "metadata": {},
   "outputs": [
    {
     "data": {
      "image/png": "[encoded data removed]",
      "text/plain": [
       "<Figure size 432x288 with 1 Axes>"
      ]
     },
     "metadata": {},
     "output_type": "display_data"
    }
   ],
   "source": [
    "plt.imshow(gan_images[0])\n",
    "plt.grid(False)"
   ]
  },
  {
   "cell_type": "code",
   "execution_count": null,
   "metadata": {},
   "outputs": [],
   "source": []
  }
 ],
 "metadata": {
  "kernelspec": {
   "display_name": "Python 3",
   "language": "python",
   "name": "python3"
  },
  "language_info": {
   "codemirror_mode": {
    "name": "ipython",
    "version": 3
   },
   "file_extension": ".py",
   "mimetype": "text/x-python",
   "name": "python",
   "nbconvert_exporter": "python",
   "pygments_lexer": "ipython3",
   "version": "3.7.6"
  }
 },
 "nbformat": 4,
 "nbformat_minor": 4
}
