{
 "cells": [
  {
   "cell_type": "code",
   "execution_count": 1,
   "metadata": {},
   "outputs": [],
   "source": [
    "import pandas as pd\n",
    "import numpy as np\n",
    "import matplotlib.pyplot as plt\n",
    "from matplotlib import style\n",
    "from mpl_toolkits.mplot3d import Axes3D\n",
    "style.use(\"fivethirtyeight\")\n",
    "import seaborn as sns\n",
    "import warnings\n",
    "warnings.filterwarnings(\"ignore\")"
   ]
  },
  {
   "cell_type": "code",
   "execution_count": 2,
   "metadata": {},
   "outputs": [],
   "source": [
    "from sklearn import datasets"
   ]
  },
  {
   "cell_type": "code",
   "execution_count": 3,
   "metadata": {},
   "outputs": [],
   "source": [
    "dataset=datasets.load_iris()"
   ]
  },
  {
   "cell_type": "code",
   "execution_count": 4,
   "metadata": {},
   "outputs": [
    {
     "data": {
      "text/plain": [
       "array(['setosa', 'versicolor', 'virginica'], dtype='<U10')"
      ]
     },
     "execution_count": 4,
     "metadata": {},
     "output_type": "execute_result"
    }
   ],
   "source": [
    "columns=dataset[\"target_names\"]\n",
    "columns"
   ]
  },
  {
   "cell_type": "code",
   "execution_count": 5,
   "metadata": {},
   "outputs": [
    {
     "data": {
      "text/html": [
       "<div>\n",
       "<style scoped>\n",
       "    .dataframe tbody tr th:only-of-type {\n",
       "        vertical-align: middle;\n",
       "    }\n",
       "\n",
       "    .dataframe tbody tr th {\n",
       "        vertical-align: top;\n",
       "    }\n",
       "\n",
       "    .dataframe thead th {\n",
       "        text-align: right;\n",
       "    }\n",
       "</style>\n",
       "<table border=\"1\" class=\"dataframe\">\n",
       "  <thead>\n",
       "    <tr style=\"text-align: right;\">\n",
       "      <th></th>\n",
       "      <th>setosa</th>\n",
       "      <th>versicolor</th>\n",
       "      <th>virginica</th>\n",
       "      <th>target</th>\n",
       "    </tr>\n",
       "  </thead>\n",
       "  <tbody>\n",
       "    <tr>\n",
       "      <th>0</th>\n",
       "      <td>5.1</td>\n",
       "      <td>3.5</td>\n",
       "      <td>1.4</td>\n",
       "      <td>0</td>\n",
       "    </tr>\n",
       "    <tr>\n",
       "      <th>1</th>\n",
       "      <td>4.9</td>\n",
       "      <td>3.0</td>\n",
       "      <td>1.4</td>\n",
       "      <td>0</td>\n",
       "    </tr>\n",
       "    <tr>\n",
       "      <th>2</th>\n",
       "      <td>4.7</td>\n",
       "      <td>3.2</td>\n",
       "      <td>1.3</td>\n",
       "      <td>0</td>\n",
       "    </tr>\n",
       "    <tr>\n",
       "      <th>3</th>\n",
       "      <td>4.6</td>\n",
       "      <td>3.1</td>\n",
       "      <td>1.5</td>\n",
       "      <td>0</td>\n",
       "    </tr>\n",
       "    <tr>\n",
       "      <th>4</th>\n",
       "      <td>5.0</td>\n",
       "      <td>3.6</td>\n",
       "      <td>1.4</td>\n",
       "      <td>0</td>\n",
       "    </tr>\n",
       "  </tbody>\n",
       "</table>\n",
       "</div>"
      ],
      "text/plain": [
       "   setosa  versicolor  virginica  target\n",
       "0     5.1         3.5        1.4       0\n",
       "1     4.9         3.0        1.4       0\n",
       "2     4.7         3.2        1.3       0\n",
       "3     4.6         3.1        1.5       0\n",
       "4     5.0         3.6        1.4       0"
      ]
     },
     "execution_count": 5,
     "metadata": {},
     "output_type": "execute_result"
    }
   ],
   "source": [
    "iris_data=pd.DataFrame(dataset[\"data\"][:,0:3],columns=columns)\n",
    "iris_data[\"target\"]=dataset[\"target\"]\n",
    "iris_data.head()"
   ]
  },
  {
   "cell_type": "code",
   "execution_count": 6,
   "metadata": {},
   "outputs": [
    {
     "data": {
      "text/plain": [
       "setosa        0\n",
       "versicolor    0\n",
       "virginica     0\n",
       "target        0\n",
       "dtype: int64"
      ]
     },
     "execution_count": 6,
     "metadata": {},
     "output_type": "execute_result"
    }
   ],
   "source": [
    "iris_data.isnull().sum()"
   ]
  },
  {
   "cell_type": "code",
   "execution_count": 7,
   "metadata": {},
   "outputs": [
    {
     "data": {
      "text/html": [
       "<div>\n",
       "<style scoped>\n",
       "    .dataframe tbody tr th:only-of-type {\n",
       "        vertical-align: middle;\n",
       "    }\n",
       "\n",
       "    .dataframe tbody tr th {\n",
       "        vertical-align: top;\n",
       "    }\n",
       "\n",
       "    .dataframe thead th {\n",
       "        text-align: right;\n",
       "    }\n",
       "</style>\n",
       "<table border=\"1\" class=\"dataframe\">\n",
       "  <thead>\n",
       "    <tr style=\"text-align: right;\">\n",
       "      <th></th>\n",
       "      <th>count</th>\n",
       "      <th>mean</th>\n",
       "      <th>std</th>\n",
       "      <th>min</th>\n",
       "      <th>25%</th>\n",
       "      <th>50%</th>\n",
       "      <th>75%</th>\n",
       "      <th>max</th>\n",
       "    </tr>\n",
       "  </thead>\n",
       "  <tbody>\n",
       "    <tr>\n",
       "      <th>setosa</th>\n",
       "      <td>150.0</td>\n",
       "      <td>5.843333</td>\n",
       "      <td>0.828066</td>\n",
       "      <td>4.3</td>\n",
       "      <td>5.1</td>\n",
       "      <td>5.80</td>\n",
       "      <td>6.4</td>\n",
       "      <td>7.9</td>\n",
       "    </tr>\n",
       "    <tr>\n",
       "      <th>versicolor</th>\n",
       "      <td>150.0</td>\n",
       "      <td>3.057333</td>\n",
       "      <td>0.435866</td>\n",
       "      <td>2.0</td>\n",
       "      <td>2.8</td>\n",
       "      <td>3.00</td>\n",
       "      <td>3.3</td>\n",
       "      <td>4.4</td>\n",
       "    </tr>\n",
       "    <tr>\n",
       "      <th>virginica</th>\n",
       "      <td>150.0</td>\n",
       "      <td>3.758000</td>\n",
       "      <td>1.765298</td>\n",
       "      <td>1.0</td>\n",
       "      <td>1.6</td>\n",
       "      <td>4.35</td>\n",
       "      <td>5.1</td>\n",
       "      <td>6.9</td>\n",
       "    </tr>\n",
       "    <tr>\n",
       "      <th>target</th>\n",
       "      <td>150.0</td>\n",
       "      <td>1.000000</td>\n",
       "      <td>0.819232</td>\n",
       "      <td>0.0</td>\n",
       "      <td>0.0</td>\n",
       "      <td>1.00</td>\n",
       "      <td>2.0</td>\n",
       "      <td>2.0</td>\n",
       "    </tr>\n",
       "  </tbody>\n",
       "</table>\n",
       "</div>"
      ],
      "text/plain": [
       "            count      mean       std  min  25%   50%  75%  max\n",
       "setosa      150.0  5.843333  0.828066  4.3  5.1  5.80  6.4  7.9\n",
       "versicolor  150.0  3.057333  0.435866  2.0  2.8  3.00  3.3  4.4\n",
       "virginica   150.0  3.758000  1.765298  1.0  1.6  4.35  5.1  6.9\n",
       "target      150.0  1.000000  0.819232  0.0  0.0  1.00  2.0  2.0"
      ]
     },
     "execution_count": 7,
     "metadata": {},
     "output_type": "execute_result"
    }
   ],
   "source": [
    "iris_data.describe().transpose()"
   ]
  },
  {
   "cell_type": "code",
   "execution_count": 8,
   "metadata": {},
   "outputs": [
    {
     "data": {
      "text/html": [
       "<div>\n",
       "<style scoped>\n",
       "    .dataframe tbody tr th:only-of-type {\n",
       "        vertical-align: middle;\n",
       "    }\n",
       "\n",
       "    .dataframe tbody tr th {\n",
       "        vertical-align: top;\n",
       "    }\n",
       "\n",
       "    .dataframe thead th {\n",
       "        text-align: right;\n",
       "    }\n",
       "</style>\n",
       "<table border=\"1\" class=\"dataframe\">\n",
       "  <thead>\n",
       "    <tr style=\"text-align: right;\">\n",
       "      <th></th>\n",
       "      <th>setosa</th>\n",
       "      <th>versicolor</th>\n",
       "      <th>virginica</th>\n",
       "      <th>target</th>\n",
       "    </tr>\n",
       "  </thead>\n",
       "  <tbody>\n",
       "    <tr>\n",
       "      <th>setosa</th>\n",
       "      <td>1.000000</td>\n",
       "      <td>-0.117570</td>\n",
       "      <td>0.871754</td>\n",
       "      <td>0.782561</td>\n",
       "    </tr>\n",
       "    <tr>\n",
       "      <th>versicolor</th>\n",
       "      <td>-0.117570</td>\n",
       "      <td>1.000000</td>\n",
       "      <td>-0.428440</td>\n",
       "      <td>-0.426658</td>\n",
       "    </tr>\n",
       "    <tr>\n",
       "      <th>virginica</th>\n",
       "      <td>0.871754</td>\n",
       "      <td>-0.428440</td>\n",
       "      <td>1.000000</td>\n",
       "      <td>0.949035</td>\n",
       "    </tr>\n",
       "    <tr>\n",
       "      <th>target</th>\n",
       "      <td>0.782561</td>\n",
       "      <td>-0.426658</td>\n",
       "      <td>0.949035</td>\n",
       "      <td>1.000000</td>\n",
       "    </tr>\n",
       "  </tbody>\n",
       "</table>\n",
       "</div>"
      ],
      "text/plain": [
       "              setosa  versicolor  virginica    target\n",
       "setosa      1.000000   -0.117570   0.871754  0.782561\n",
       "versicolor -0.117570    1.000000  -0.428440 -0.426658\n",
       "virginica   0.871754   -0.428440   1.000000  0.949035\n",
       "target      0.782561   -0.426658   0.949035  1.000000"
      ]
     },
     "execution_count": 8,
     "metadata": {},
     "output_type": "execute_result"
    }
   ],
   "source": [
    "iris_data.corr()"
   ]
  },
  {
   "cell_type": "code",
   "execution_count": 9,
   "metadata": {},
   "outputs": [
    {
     "data": {
      "text/plain": [
       "<matplotlib.axes._subplots.AxesSubplot at 0x262d0ff2588>"
      ]
     },
     "execution_count": 9,
     "metadata": {},
     "output_type": "execute_result"
    },
    {
     "data": {
      "image/png": "[encoded data removed]",
      "text/plain": [
       "<Figure size 432x288 with 2 Axes>"
      ]
     },
     "metadata": {
      "needs_background": "light"
     },
     "output_type": "display_data"
    }
   ],
   "source": [
    "sns.heatmap(iris_data.corr())"
   ]
  },
  {
   "cell_type": "code",
   "execution_count": 10,
   "metadata": {},
   "outputs": [
    {
     "data": {
      "text/plain": [
       "<matplotlib.axes._subplots.AxesSubplot at 0x262d2db3cc0>"
      ]
     },
     "execution_count": 10,
     "metadata": {},
     "output_type": "execute_result"
    },
    {
     "data": {
      "image/png": "[encoded data removed]",
      "text/plain": [
       "<Figure size 1368x900 with 4 Axes>"
      ]
     },
     "metadata": {
      "needs_background": "light"
     },
     "output_type": "display_data"
    }
   ],
   "source": [
    "fig=plt.figure(figsize=(19,12.5))\n",
    "fig.add_subplot(2,2,1)\n",
    "sns.scatterplot(x=\"target\",y=\"setosa\",data=iris_data)\n",
    "fig.add_subplot(2,2,2)\n",
    "sns.scatterplot(x=\"target\",y=\"versicolor\",data=iris_data,color=\"r\")\n",
    "fig.add_subplot(2,2,3)\n",
    "sns.scatterplot(x=\"target\",y=\"virginica\",data=iris_data,color=\"g\")\n",
    "fig.add_subplot(2,2,4)\n",
    "sns.countplot(x=\"target\",data=iris_data)"
   ]
  },
  {
   "cell_type": "code",
   "execution_count": null,
   "metadata": {},
   "outputs": [],
   "source": []
  },
  {
   "cell_type": "code",
   "execution_count": 11,
   "metadata": {},
   "outputs": [
    {
     "data": {
      "text/plain": [
       "[(0, 10)]"
      ]
     },
     "execution_count": 11,
     "metadata": {},
     "output_type": "execute_result"
    },
    {
     "data": {
      "image/png": "[encoded data removed]",
      "text/plain": [
       "<Figure size 1368x900 with 4 Axes>"
      ]
     },
     "metadata": {
      "needs_background": "light"
     },
     "output_type": "display_data"
    }
   ],
   "source": [
    "fig=plt.figure(figsize=(19,12.5))\n",
    "fig.add_subplot(2,2,1)\n",
    "sns.boxplot(x=\"target\",y=\"setosa\",data=iris_data)\n",
    "fig.add_subplot(2,2,2)\n",
    "sns.boxplot(x=\"target\",y=\"virginica\",data=iris_data)\n",
    "fig.add_subplot(2,2,3)\n",
    "sns.boxplot(x=\"target\",y=\"versicolor\",data=iris_data)\n",
    "ax=fig.add_subplot(2,2,4,projection='3d')\n",
    "ax.scatter(iris_data[\"setosa\"],iris_data[\"versicolor\"],iris_data[\"virginica\"],c=\"g\")\n",
    "ax.set(xlabel='\\n\"setosa\"',ylabel='\\n\"versicolor\"',zlabel='\\virginica')\n",
    "ax.set(ylim=[0,10])"
   ]
  },
  {
   "cell_type": "code",
   "execution_count": 12,
   "metadata": {},
   "outputs": [],
   "source": [
    "from sklearn.preprocessing import OneHotEncoder\n",
    "from sklearn.model_selection import train_test_split\n",
    "from sklearn.metrics import confusion_matrix,classification_report\n",
    "from tensorflow.keras.layers import Dense\n",
    "from tensorflow.keras.models import Sequential\n",
    "from tensorflow.keras.callbacks import EarlyStopping"
   ]
  },
  {
   "cell_type": "code",
   "execution_count": 13,
   "metadata": {},
   "outputs": [
    {
     "name": "stdout",
     "output_type": "stream",
     "text": [
      "[[1. 0. 0.]\n",
      " [1. 0. 0.]\n",
      " [1. 0. 0.]\n",
      " [1. 0. 0.]\n",
      " [1. 0. 0.]\n",
      " [1. 0. 0.]\n",
      " [1. 0. 0.]\n",
      " [1. 0. 0.]\n",
      " [1. 0. 0.]\n",
      " [1. 0. 0.]]\n"
     ]
    }
   ],
   "source": [
    "x=np.array(iris_data.iloc[:,0:3].values)\n",
    "y=np.array(iris_data[\"target\"])\n",
    "encoding=OneHotEncoder()\n",
    "y=encoding.fit_transform(y.reshape(-1,1))\n",
    "print(y[0:10].toarray())"
   ]
  },
  {
   "cell_type": "code",
   "execution_count": 14,
   "metadata": {},
   "outputs": [],
   "source": [
    "x_train,x_test,y_train,y_test=train_test_split(x,y,random_state=6)"
   ]
  },
  {
   "cell_type": "code",
   "execution_count": 15,
   "metadata": {},
   "outputs": [],
   "source": [
    "def modelcreating(optimizer=\"adam\",loss=\"categorical_crossentropy\"):\n",
    "    model=Sequential()\n",
    "    model.add(Dense(15,input_dim=3,activation=\"relu\"))\n",
    "    model.add(Dense(6,activation=\"relu\"))\n",
    "    model.add(Dense(3,activation=\"softmax\"))\n",
    "    model.compile(loss=loss,optimizer=optimizer,metrics=[\"accuracy\"])\n",
    "    return model\n",
    "callbacks=EarlyStopping(monitor=\"val_loss\",mode=\"min\",patience=25)"
   ]
  },
  {
   "cell_type": "code",
   "execution_count": 16,
   "metadata": {},
   "outputs": [
    {
     "name": "stdout",
     "output_type": "stream",
     "text": [
      "Train on 112 samples, validate on 38 samples\n",
      "Epoch 1/300\n",
      "112/112 [==============================] - 0s 2ms/sample - loss: 1.1155 - accuracy: 0.6607 - val_loss: 1.0249 - val_accuracy: 0.6842\n",
      "Epoch 2/300\n",
      "112/112 [==============================] - 0s 107us/sample - loss: 1.0561 - accuracy: 0.6607 - val_loss: 1.0083 - val_accuracy: 0.6842\n",
      "Epoch 3/300\n",
      "112/112 [==============================] - 0s 116us/sample - loss: 1.0329 - accuracy: 0.6607 - val_loss: 1.0023 - val_accuracy: 0.6842\n",
      "Epoch 4/300\n",
      "112/112 [==============================] - 0s 116us/sample - loss: 1.0205 - accuracy: 0.6607 - val_loss: 0.9918 - val_accuracy: 0.6842\n",
      "Epoch 5/300\n",
      "112/112 [==============================] - 0s 107us/sample - loss: 1.0075 - accuracy: 0.6607 - val_loss: 0.9755 - val_accuracy: 0.6842\n",
      "Epoch 6/300\n",
      "112/112 [==============================] - 0s 116us/sample - loss: 0.9922 - accuracy: 0.6607 - val_loss: 0.9604 - val_accuracy: 0.6842\n",
      "Epoch 7/300\n",
      "112/112 [==============================] - 0s 142us/sample - loss: 0.9799 - accuracy: 0.6607 - val_loss: 0.9472 - val_accuracy: 0.6842\n",
      "Epoch 8/300\n",
      "112/112 [==============================] - 0s 125us/sample - loss: 0.9686 - accuracy: 0.6607 - val_loss: 0.9354 - val_accuracy: 0.6842\n",
      "Epoch 9/300\n",
      "112/112 [==============================] - 0s 116us/sample - loss: 0.9584 - accuracy: 0.6607 - val_loss: 0.9266 - val_accuracy: 0.6842\n",
      "Epoch 10/300\n",
      "112/112 [==============================] - 0s 125us/sample - loss: 0.9473 - accuracy: 0.6607 - val_loss: 0.9183 - val_accuracy: 0.6842\n",
      "Epoch 11/300\n",
      "112/112 [==============================] - 0s 125us/sample - loss: 0.9373 - accuracy: 0.6607 - val_loss: 0.9092 - val_accuracy: 0.6842\n",
      "Epoch 12/300\n",
      "112/112 [==============================] - 0s 125us/sample - loss: 0.9280 - accuracy: 0.6607 - val_loss: 0.8992 - val_accuracy: 0.6842\n",
      "Epoch 13/300\n",
      "112/112 [==============================] - 0s 125us/sample - loss: 0.9182 - accuracy: 0.6607 - val_loss: 0.8908 - val_accuracy: 0.6842\n",
      "Epoch 14/300\n",
      "112/112 [==============================] - 0s 125us/sample - loss: 0.9091 - accuracy: 0.6607 - val_loss: 0.8805 - val_accuracy: 0.6842\n",
      "Epoch 15/300\n",
      "112/112 [==============================] - 0s 134us/sample - loss: 0.8988 - accuracy: 0.6607 - val_loss: 0.8689 - val_accuracy: 0.6842\n",
      "Epoch 16/300\n",
      "112/112 [==============================] - 0s 125us/sample - loss: 0.8877 - accuracy: 0.6607 - val_loss: 0.8558 - val_accuracy: 0.6842\n",
      "Epoch 17/300\n",
      "112/112 [==============================] - 0s 116us/sample - loss: 0.8747 - accuracy: 0.6607 - val_loss: 0.8443 - val_accuracy: 0.6842\n",
      "Epoch 18/300\n",
      "112/112 [==============================] - 0s 125us/sample - loss: 0.8640 - accuracy: 0.6607 - val_loss: 0.8397 - val_accuracy: 0.6842\n",
      "Epoch 19/300\n",
      "112/112 [==============================] - 0s 125us/sample - loss: 0.8527 - accuracy: 0.6607 - val_loss: 0.8282 - val_accuracy: 0.6842\n",
      "Epoch 20/300\n",
      "112/112 [==============================] - 0s 125us/sample - loss: 0.8437 - accuracy: 0.6607 - val_loss: 0.8150 - val_accuracy: 0.6842\n",
      "Epoch 21/300\n",
      "112/112 [==============================] - 0s 125us/sample - loss: 0.8341 - accuracy: 0.6607 - val_loss: 0.8085 - val_accuracy: 0.6842\n",
      "Epoch 22/300\n",
      "112/112 [==============================] - 0s 125us/sample - loss: 0.8252 - accuracy: 0.6607 - val_loss: 0.7993 - val_accuracy: 0.6842\n",
      "Epoch 23/300\n",
      "112/112 [==============================] - 0s 134us/sample - loss: 0.8168 - accuracy: 0.6607 - val_loss: 0.7905 - val_accuracy: 0.6842\n",
      "Epoch 24/300\n",
      "112/112 [==============================] - 0s 142us/sample - loss: 0.8084 - accuracy: 0.6607 - val_loss: 0.7829 - val_accuracy: 0.6842\n",
      "Epoch 25/300\n",
      "112/112 [==============================] - 0s 125us/sample - loss: 0.8015 - accuracy: 0.6607 - val_loss: 0.7730 - val_accuracy: 0.6842\n",
      "Epoch 26/300\n",
      "112/112 [==============================] - 0s 125us/sample - loss: 0.7915 - accuracy: 0.6607 - val_loss: 0.7678 - val_accuracy: 0.6842\n",
      "Epoch 27/300\n",
      "112/112 [==============================] - 0s 134us/sample - loss: 0.7839 - accuracy: 0.6607 - val_loss: 0.7607 - val_accuracy: 0.6842\n",
      "Epoch 28/300\n",
      "112/112 [==============================] - 0s 134us/sample - loss: 0.7762 - accuracy: 0.6607 - val_loss: 0.7571 - val_accuracy: 0.6842\n",
      "Epoch 29/300\n",
      "112/112 [==============================] - 0s 125us/sample - loss: 0.7692 - accuracy: 0.6607 - val_loss: 0.7494 - val_accuracy: 0.6842\n",
      "Epoch 30/300\n",
      "112/112 [==============================] - 0s 125us/sample - loss: 0.7604 - accuracy: 0.6607 - val_loss: 0.7365 - val_accuracy: 0.6842\n",
      "Epoch 31/300\n",
      "112/112 [==============================] - 0s 125us/sample - loss: 0.7513 - accuracy: 0.6607 - val_loss: 0.7247 - val_accuracy: 0.6842\n",
      "Epoch 32/300\n",
      "112/112 [==============================] - 0s 125us/sample - loss: 0.7445 - accuracy: 0.6607 - val_loss: 0.7156 - val_accuracy: 0.6842\n",
      "Epoch 33/300\n",
      "112/112 [==============================] - 0s 125us/sample - loss: 0.7414 - accuracy: 0.6607 - val_loss: 0.7064 - val_accuracy: 0.6842\n",
      "Epoch 34/300\n",
      "112/112 [==============================] - 0s 125us/sample - loss: 0.7293 - accuracy: 0.6607 - val_loss: 0.7044 - val_accuracy: 0.6842\n",
      "Epoch 35/300\n",
      "112/112 [==============================] - 0s 134us/sample - loss: 0.7214 - accuracy: 0.6607 - val_loss: 0.7031 - val_accuracy: 0.6842\n",
      "Epoch 36/300\n",
      "112/112 [==============================] - 0s 125us/sample - loss: 0.7150 - accuracy: 0.6607 - val_loss: 0.6968 - val_accuracy: 0.6842\n",
      "Epoch 37/300\n",
      "112/112 [==============================] - 0s 98us/sample - loss: 0.7069 - accuracy: 0.6607 - val_loss: 0.6846 - val_accuracy: 0.6842\n",
      "Epoch 38/300\n",
      "112/112 [==============================] - 0s 116us/sample - loss: 0.6986 - accuracy: 0.6607 - val_loss: 0.6722 - val_accuracy: 0.6842\n",
      "Epoch 39/300\n",
      "112/112 [==============================] - 0s 107us/sample - loss: 0.6913 - accuracy: 0.6696 - val_loss: 0.6648 - val_accuracy: 0.6842\n",
      "Epoch 40/300\n",
      "112/112 [==============================] - 0s 125us/sample - loss: 0.6832 - accuracy: 0.6786 - val_loss: 0.6577 - val_accuracy: 0.7105\n",
      "Epoch 41/300\n",
      "112/112 [==============================] - 0s 125us/sample - loss: 0.6757 - accuracy: 0.7143 - val_loss: 0.6508 - val_accuracy: 0.7368\n",
      "Epoch 42/300\n",
      "112/112 [==============================] - 0s 116us/sample - loss: 0.6682 - accuracy: 0.7411 - val_loss: 0.6478 - val_accuracy: 0.7895\n",
      "Epoch 43/300\n",
      "112/112 [==============================] - 0s 125us/sample - loss: 0.6605 - accuracy: 0.7589 - val_loss: 0.6360 - val_accuracy: 0.7632\n",
      "Epoch 44/300\n",
      "112/112 [==============================] - 0s 116us/sample - loss: 0.6451 - accuracy: 0.7768 - val_loss: 0.6113 - val_accuracy: 0.8158\n",
      "Epoch 45/300\n",
      "112/112 [==============================] - 0s 107us/sample - loss: 0.6341 - accuracy: 0.7857 - val_loss: 0.6017 - val_accuracy: 0.8421\n",
      "Epoch 46/300\n",
      "112/112 [==============================] - 0s 125us/sample - loss: 0.6262 - accuracy: 0.8125 - val_loss: 0.6019 - val_accuracy: 0.8684\n",
      "Epoch 47/300\n",
      "112/112 [==============================] - 0s 125us/sample - loss: 0.6155 - accuracy: 0.8304 - val_loss: 0.5851 - val_accuracy: 0.8684\n",
      "Epoch 48/300\n",
      "112/112 [==============================] - 0s 125us/sample - loss: 0.6062 - accuracy: 0.8304 - val_loss: 0.5808 - val_accuracy: 0.8684\n",
      "Epoch 49/300\n",
      "112/112 [==============================] - 0s 134us/sample - loss: 0.5987 - accuracy: 0.8482 - val_loss: 0.5749 - val_accuracy: 0.8947\n",
      "Epoch 50/300\n",
      "112/112 [==============================] - 0s 134us/sample - loss: 0.5878 - accuracy: 0.8661 - val_loss: 0.5606 - val_accuracy: 0.8947\n",
      "Epoch 51/300\n",
      "112/112 [==============================] - 0s 116us/sample - loss: 0.5811 - accuracy: 0.8482 - val_loss: 0.5505 - val_accuracy: 0.8947\n",
      "Epoch 52/300\n",
      "112/112 [==============================] - 0s 125us/sample - loss: 0.5710 - accuracy: 0.8571 - val_loss: 0.5459 - val_accuracy: 0.9211\n",
      "Epoch 53/300\n",
      "112/112 [==============================] - 0s 134us/sample - loss: 0.5638 - accuracy: 0.8750 - val_loss: 0.5433 - val_accuracy: 0.9474\n",
      "Epoch 54/300\n",
      "112/112 [==============================] - 0s 125us/sample - loss: 0.5574 - accuracy: 0.8661 - val_loss: 0.5239 - val_accuracy: 0.8947\n",
      "Epoch 55/300\n",
      "112/112 [==============================] - 0s 116us/sample - loss: 0.5468 - accuracy: 0.8750 - val_loss: 0.5237 - val_accuracy: 0.9474\n",
      "Epoch 56/300\n"
     ]
    },
    {
     "name": "stdout",
     "output_type": "stream",
     "text": [
      "112/112 [==============================] - 0s 142us/sample - loss: 0.5363 - accuracy: 0.8929 - val_loss: 0.5175 - val_accuracy: 0.9474\n",
      "Epoch 57/300\n",
      "112/112 [==============================] - 0s 142us/sample - loss: 0.5280 - accuracy: 0.9018 - val_loss: 0.5021 - val_accuracy: 0.9474\n",
      "Epoch 58/300\n",
      "112/112 [==============================] - 0s 134us/sample - loss: 0.5181 - accuracy: 0.8929 - val_loss: 0.4974 - val_accuracy: 0.9474\n",
      "Epoch 59/300\n",
      "112/112 [==============================] - 0s 125us/sample - loss: 0.5089 - accuracy: 0.9018 - val_loss: 0.4883 - val_accuracy: 0.9474\n",
      "Epoch 60/300\n",
      "112/112 [==============================] - 0s 125us/sample - loss: 0.4994 - accuracy: 0.9107 - val_loss: 0.4758 - val_accuracy: 0.9474\n",
      "Epoch 61/300\n",
      "112/112 [==============================] - 0s 116us/sample - loss: 0.4930 - accuracy: 0.9107 - val_loss: 0.4723 - val_accuracy: 0.9474\n",
      "Epoch 62/300\n",
      "112/112 [==============================] - 0s 125us/sample - loss: 0.4816 - accuracy: 0.9286 - val_loss: 0.4606 - val_accuracy: 0.9474\n",
      "Epoch 63/300\n",
      "112/112 [==============================] - 0s 125us/sample - loss: 0.4741 - accuracy: 0.9107 - val_loss: 0.4494 - val_accuracy: 0.9474\n",
      "Epoch 64/300\n",
      "112/112 [==============================] - 0s 125us/sample - loss: 0.4653 - accuracy: 0.9107 - val_loss: 0.4444 - val_accuracy: 0.9474\n",
      "Epoch 65/300\n",
      "112/112 [==============================] - 0s 134us/sample - loss: 0.4555 - accuracy: 0.9286 - val_loss: 0.4423 - val_accuracy: 0.9474\n",
      "Epoch 66/300\n",
      "112/112 [==============================] - 0s 125us/sample - loss: 0.4479 - accuracy: 0.9286 - val_loss: 0.4373 - val_accuracy: 0.9474\n",
      "Epoch 67/300\n",
      "112/112 [==============================] - 0s 125us/sample - loss: 0.4403 - accuracy: 0.9286 - val_loss: 0.4226 - val_accuracy: 0.9474\n",
      "Epoch 68/300\n",
      "112/112 [==============================] - 0s 125us/sample - loss: 0.4313 - accuracy: 0.9286 - val_loss: 0.4178 - val_accuracy: 0.9474\n",
      "Epoch 69/300\n",
      "112/112 [==============================] - 0s 134us/sample - loss: 0.4235 - accuracy: 0.9286 - val_loss: 0.4083 - val_accuracy: 0.9474\n",
      "Epoch 70/300\n",
      "112/112 [==============================] - 0s 125us/sample - loss: 0.4161 - accuracy: 0.9286 - val_loss: 0.4051 - val_accuracy: 0.9474\n",
      "Epoch 71/300\n",
      "112/112 [==============================] - 0s 125us/sample - loss: 0.4087 - accuracy: 0.9286 - val_loss: 0.3963 - val_accuracy: 0.9474\n",
      "Epoch 72/300\n",
      "112/112 [==============================] - 0s 134us/sample - loss: 0.4008 - accuracy: 0.9286 - val_loss: 0.3858 - val_accuracy: 0.9474\n",
      "Epoch 73/300\n",
      "112/112 [==============================] - 0s 142us/sample - loss: 0.3953 - accuracy: 0.9286 - val_loss: 0.3800 - val_accuracy: 0.9474\n",
      "Epoch 74/300\n",
      "112/112 [==============================] - 0s 134us/sample - loss: 0.3878 - accuracy: 0.9375 - val_loss: 0.3767 - val_accuracy: 0.9474\n",
      "Epoch 75/300\n",
      "112/112 [==============================] - 0s 133us/sample - loss: 0.3816 - accuracy: 0.9464 - val_loss: 0.3709 - val_accuracy: 0.9474\n",
      "Epoch 76/300\n",
      "112/112 [==============================] - 0s 125us/sample - loss: 0.3751 - accuracy: 0.9464 - val_loss: 0.3622 - val_accuracy: 0.9474\n",
      "Epoch 77/300\n",
      "112/112 [==============================] - 0s 134us/sample - loss: 0.3702 - accuracy: 0.9375 - val_loss: 0.3562 - val_accuracy: 0.9474\n",
      "Epoch 78/300\n",
      "112/112 [==============================] - 0s 116us/sample - loss: 0.3616 - accuracy: 0.9286 - val_loss: 0.3464 - val_accuracy: 0.9474\n",
      "Epoch 79/300\n",
      "112/112 [==============================] - 0s 125us/sample - loss: 0.3560 - accuracy: 0.9286 - val_loss: 0.3441 - val_accuracy: 0.9474\n",
      "Epoch 80/300\n",
      "112/112 [==============================] - 0s 107us/sample - loss: 0.3526 - accuracy: 0.9375 - val_loss: 0.3441 - val_accuracy: 0.9474\n",
      "Epoch 81/300\n",
      "112/112 [==============================] - 0s 107us/sample - loss: 0.3449 - accuracy: 0.9464 - val_loss: 0.3322 - val_accuracy: 0.9474\n",
      "Epoch 82/300\n",
      "112/112 [==============================] - 0s 142us/sample - loss: 0.3387 - accuracy: 0.9464 - val_loss: 0.3278 - val_accuracy: 0.9474\n",
      "Epoch 83/300\n",
      "112/112 [==============================] - 0s 125us/sample - loss: 0.3329 - accuracy: 0.9464 - val_loss: 0.3229 - val_accuracy: 0.9474\n",
      "Epoch 84/300\n",
      "112/112 [==============================] - 0s 134us/sample - loss: 0.3281 - accuracy: 0.9464 - val_loss: 0.3169 - val_accuracy: 0.9474\n",
      "Epoch 85/300\n",
      "112/112 [==============================] - 0s 116us/sample - loss: 0.3234 - accuracy: 0.9464 - val_loss: 0.3129 - val_accuracy: 0.9474\n",
      "Epoch 86/300\n",
      "112/112 [==============================] - 0s 125us/sample - loss: 0.3211 - accuracy: 0.9286 - val_loss: 0.3179 - val_accuracy: 0.9474\n",
      "Epoch 87/300\n",
      "112/112 [==============================] - 0s 125us/sample - loss: 0.3152 - accuracy: 0.9286 - val_loss: 0.2992 - val_accuracy: 0.9474\n",
      "Epoch 88/300\n",
      "112/112 [==============================] - 0s 125us/sample - loss: 0.3088 - accuracy: 0.9464 - val_loss: 0.2972 - val_accuracy: 0.9474\n",
      "Epoch 89/300\n",
      "112/112 [==============================] - 0s 116us/sample - loss: 0.3044 - accuracy: 0.9464 - val_loss: 0.2996 - val_accuracy: 0.9737\n",
      "Epoch 90/300\n",
      "112/112 [==============================] - 0s 142us/sample - loss: 0.2996 - accuracy: 0.9375 - val_loss: 0.2905 - val_accuracy: 0.9474\n",
      "Epoch 91/300\n",
      "112/112 [==============================] - 0s 125us/sample - loss: 0.2946 - accuracy: 0.9375 - val_loss: 0.2854 - val_accuracy: 0.9474\n",
      "Epoch 92/300\n",
      "112/112 [==============================] - 0s 107us/sample - loss: 0.2917 - accuracy: 0.9464 - val_loss: 0.2791 - val_accuracy: 0.9474\n",
      "Epoch 93/300\n",
      "112/112 [==============================] - 0s 107us/sample - loss: 0.2878 - accuracy: 0.9375 - val_loss: 0.2806 - val_accuracy: 0.9737\n",
      "Epoch 94/300\n",
      "112/112 [==============================] - 0s 98us/sample - loss: 0.2826 - accuracy: 0.9375 - val_loss: 0.2725 - val_accuracy: 0.9474\n",
      "Epoch 95/300\n",
      "112/112 [==============================] - 0s 107us/sample - loss: 0.2801 - accuracy: 0.9375 - val_loss: 0.2645 - val_accuracy: 0.9474\n",
      "Epoch 96/300\n",
      "112/112 [==============================] - 0s 116us/sample - loss: 0.2774 - accuracy: 0.9375 - val_loss: 0.2629 - val_accuracy: 0.9474\n",
      "Epoch 97/300\n",
      "112/112 [==============================] - 0s 125us/sample - loss: 0.2740 - accuracy: 0.9375 - val_loss: 0.2712 - val_accuracy: 0.9474\n",
      "Epoch 98/300\n",
      "112/112 [==============================] - 0s 116us/sample - loss: 0.2699 - accuracy: 0.9375 - val_loss: 0.2605 - val_accuracy: 0.9737\n",
      "Epoch 99/300\n",
      "112/112 [==============================] - 0s 116us/sample - loss: 0.2650 - accuracy: 0.9375 - val_loss: 0.2546 - val_accuracy: 0.9737\n",
      "Epoch 100/300\n",
      "112/112 [==============================] - 0s 116us/sample - loss: 0.2644 - accuracy: 0.9464 - val_loss: 0.2478 - val_accuracy: 0.9474\n",
      "Epoch 101/300\n",
      "112/112 [==============================] - 0s 116us/sample - loss: 0.2592 - accuracy: 0.9464 - val_loss: 0.2485 - val_accuracy: 0.9737\n",
      "Epoch 102/300\n",
      "112/112 [==============================] - 0s 107us/sample - loss: 0.2554 - accuracy: 0.9375 - val_loss: 0.2533 - val_accuracy: 0.9474\n",
      "Epoch 103/300\n",
      "112/112 [==============================] - 0s 116us/sample - loss: 0.2533 - accuracy: 0.9464 - val_loss: 0.2440 - val_accuracy: 0.9737\n",
      "Epoch 104/300\n",
      "112/112 [==============================] - 0s 116us/sample - loss: 0.2528 - accuracy: 0.9375 - val_loss: 0.2360 - val_accuracy: 0.9474\n",
      "Epoch 105/300\n",
      "112/112 [==============================] - 0s 116us/sample - loss: 0.2498 - accuracy: 0.9286 - val_loss: 0.2409 - val_accuracy: 0.9737\n",
      "Epoch 106/300\n",
      "112/112 [==============================] - 0s 107us/sample - loss: 0.2453 - accuracy: 0.9464 - val_loss: 0.2308 - val_accuracy: 0.9474\n",
      "Epoch 107/300\n",
      "112/112 [==============================] - 0s 107us/sample - loss: 0.2416 - accuracy: 0.9464 - val_loss: 0.2318 - val_accuracy: 0.9737\n",
      "Epoch 108/300\n",
      "112/112 [==============================] - 0s 107us/sample - loss: 0.2387 - accuracy: 0.9286 - val_loss: 0.2306 - val_accuracy: 0.9737\n",
      "Epoch 109/300\n",
      "112/112 [==============================] - 0s 116us/sample - loss: 0.2399 - accuracy: 0.9286 - val_loss: 0.2253 - val_accuracy: 0.9737\n",
      "Epoch 110/300\n",
      "112/112 [==============================] - 0s 116us/sample - loss: 0.2339 - accuracy: 0.9375 - val_loss: 0.2259 - val_accuracy: 0.9737\n",
      "Epoch 111/300\n"
     ]
    },
    {
     "name": "stdout",
     "output_type": "stream",
     "text": [
      "112/112 [==============================] - 0s 107us/sample - loss: 0.2321 - accuracy: 0.9286 - val_loss: 0.2236 - val_accuracy: 0.9737\n",
      "Epoch 112/300\n",
      "112/112 [==============================] - 0s 116us/sample - loss: 0.2304 - accuracy: 0.9375 - val_loss: 0.2152 - val_accuracy: 0.9474\n",
      "Epoch 113/300\n",
      "112/112 [==============================] - 0s 98us/sample - loss: 0.2283 - accuracy: 0.9375 - val_loss: 0.2130 - val_accuracy: 0.9737\n",
      "Epoch 114/300\n",
      "112/112 [==============================] - 0s 116us/sample - loss: 0.2241 - accuracy: 0.9375 - val_loss: 0.2164 - val_accuracy: 0.9737\n",
      "Epoch 115/300\n",
      "112/112 [==============================] - 0s 116us/sample - loss: 0.2241 - accuracy: 0.9286 - val_loss: 0.2213 - val_accuracy: 0.9737\n",
      "Epoch 116/300\n",
      "112/112 [==============================] - 0s 116us/sample - loss: 0.2216 - accuracy: 0.9375 - val_loss: 0.2118 - val_accuracy: 0.9737\n",
      "Epoch 117/300\n",
      "112/112 [==============================] - 0s 107us/sample - loss: 0.2178 - accuracy: 0.9375 - val_loss: 0.2022 - val_accuracy: 0.9474\n",
      "Epoch 118/300\n",
      "112/112 [==============================] - 0s 98us/sample - loss: 0.2185 - accuracy: 0.9375 - val_loss: 0.2018 - val_accuracy: 0.9737\n",
      "Epoch 119/300\n",
      "112/112 [==============================] - 0s 98us/sample - loss: 0.2148 - accuracy: 0.9375 - val_loss: 0.2005 - val_accuracy: 0.9737\n",
      "Epoch 120/300\n",
      "112/112 [==============================] - 0s 107us/sample - loss: 0.2127 - accuracy: 0.9375 - val_loss: 0.2001 - val_accuracy: 0.9737\n",
      "Epoch 121/300\n",
      "112/112 [==============================] - 0s 125us/sample - loss: 0.2146 - accuracy: 0.9375 - val_loss: 0.2087 - val_accuracy: 0.9737\n",
      "Epoch 122/300\n",
      "112/112 [==============================] - 0s 116us/sample - loss: 0.2118 - accuracy: 0.9375 - val_loss: 0.2012 - val_accuracy: 0.9474\n",
      "Epoch 123/300\n",
      "112/112 [==============================] - 0s 116us/sample - loss: 0.2098 - accuracy: 0.9554 - val_loss: 0.1891 - val_accuracy: 0.9474\n",
      "Epoch 124/300\n",
      "112/112 [==============================] - 0s 98us/sample - loss: 0.2077 - accuracy: 0.9464 - val_loss: 0.1928 - val_accuracy: 0.9737\n",
      "Epoch 125/300\n",
      "112/112 [==============================] - 0s 98us/sample - loss: 0.2065 - accuracy: 0.9464 - val_loss: 0.1977 - val_accuracy: 0.9474\n",
      "Epoch 126/300\n",
      "112/112 [==============================] - 0s 125us/sample - loss: 0.2047 - accuracy: 0.9375 - val_loss: 0.1854 - val_accuracy: 0.9474\n",
      "Epoch 127/300\n",
      "112/112 [==============================] - 0s 116us/sample - loss: 0.2044 - accuracy: 0.9286 - val_loss: 0.1895 - val_accuracy: 0.9737\n",
      "Epoch 128/300\n",
      "112/112 [==============================] - 0s 116us/sample - loss: 0.1995 - accuracy: 0.9375 - val_loss: 0.1849 - val_accuracy: 0.9737\n",
      "Epoch 129/300\n",
      "112/112 [==============================] - 0s 107us/sample - loss: 0.1999 - accuracy: 0.9375 - val_loss: 0.1874 - val_accuracy: 0.9474\n",
      "Epoch 130/300\n",
      "112/112 [==============================] - 0s 107us/sample - loss: 0.1968 - accuracy: 0.9286 - val_loss: 0.1822 - val_accuracy: 0.9737\n",
      "Epoch 131/300\n",
      "112/112 [==============================] - 0s 107us/sample - loss: 0.2053 - accuracy: 0.9286 - val_loss: 0.1758 - val_accuracy: 0.9474\n",
      "Epoch 132/300\n",
      "112/112 [==============================] - 0s 98us/sample - loss: 0.1958 - accuracy: 0.9286 - val_loss: 0.1852 - val_accuracy: 0.9474\n",
      "Epoch 133/300\n",
      "112/112 [==============================] - 0s 116us/sample - loss: 0.1979 - accuracy: 0.9286 - val_loss: 0.1910 - val_accuracy: 0.9737\n",
      "Epoch 134/300\n",
      "112/112 [==============================] - 0s 116us/sample - loss: 0.1906 - accuracy: 0.9375 - val_loss: 0.1751 - val_accuracy: 0.9737\n",
      "Epoch 135/300\n",
      "112/112 [==============================] - 0s 116us/sample - loss: 0.1910 - accuracy: 0.9375 - val_loss: 0.1710 - val_accuracy: 0.9474\n",
      "Epoch 136/300\n",
      "112/112 [==============================] - 0s 125us/sample - loss: 0.1912 - accuracy: 0.9464 - val_loss: 0.1710 - val_accuracy: 0.9737\n",
      "Epoch 137/300\n",
      "112/112 [==============================] - 0s 116us/sample - loss: 0.1901 - accuracy: 0.9464 - val_loss: 0.1743 - val_accuracy: 0.9737\n",
      "Epoch 138/300\n",
      "112/112 [==============================] - 0s 116us/sample - loss: 0.1867 - accuracy: 0.9464 - val_loss: 0.1697 - val_accuracy: 0.9737\n",
      "Epoch 139/300\n",
      "112/112 [==============================] - 0s 98us/sample - loss: 0.1884 - accuracy: 0.9375 - val_loss: 0.1726 - val_accuracy: 0.9737\n",
      "Epoch 140/300\n",
      "112/112 [==============================] - 0s 107us/sample - loss: 0.1857 - accuracy: 0.9286 - val_loss: 0.1706 - val_accuracy: 0.9737\n",
      "Epoch 141/300\n",
      "112/112 [==============================] - 0s 116us/sample - loss: 0.1872 - accuracy: 0.9286 - val_loss: 0.1644 - val_accuracy: 0.9737\n",
      "Epoch 142/300\n",
      "112/112 [==============================] - 0s 116us/sample - loss: 0.1823 - accuracy: 0.9375 - val_loss: 0.1709 - val_accuracy: 0.9474\n",
      "Epoch 143/300\n",
      "112/112 [==============================] - 0s 124us/sample - loss: 0.1831 - accuracy: 0.9286 - val_loss: 0.1705 - val_accuracy: 0.9474\n",
      "Epoch 144/300\n",
      "112/112 [==============================] - 0s 116us/sample - loss: 0.1818 - accuracy: 0.9286 - val_loss: 0.1631 - val_accuracy: 0.9737\n",
      "Epoch 145/300\n",
      "112/112 [==============================] - 0s 107us/sample - loss: 0.1803 - accuracy: 0.9464 - val_loss: 0.1626 - val_accuracy: 0.9737\n",
      "Epoch 146/300\n",
      "112/112 [==============================] - 0s 107us/sample - loss: 0.1811 - accuracy: 0.9286 - val_loss: 0.1728 - val_accuracy: 0.9737\n",
      "Epoch 147/300\n",
      "112/112 [==============================] - 0s 115us/sample - loss: 0.1792 - accuracy: 0.9286 - val_loss: 0.1632 - val_accuracy: 0.9737\n",
      "Epoch 148/300\n",
      "112/112 [==============================] - 0s 116us/sample - loss: 0.1778 - accuracy: 0.9375 - val_loss: 0.1589 - val_accuracy: 0.9737\n",
      "Epoch 149/300\n",
      "112/112 [==============================] - 0s 116us/sample - loss: 0.1775 - accuracy: 0.9375 - val_loss: 0.1557 - val_accuracy: 0.9737\n",
      "Epoch 150/300\n",
      "112/112 [==============================] - 0s 107us/sample - loss: 0.1772 - accuracy: 0.9375 - val_loss: 0.1596 - val_accuracy: 0.9737\n",
      "Epoch 151/300\n",
      "112/112 [==============================] - 0s 98us/sample - loss: 0.1799 - accuracy: 0.9286 - val_loss: 0.1546 - val_accuracy: 0.9737\n",
      "Epoch 152/300\n",
      "112/112 [==============================] - 0s 125us/sample - loss: 0.1751 - accuracy: 0.9375 - val_loss: 0.1645 - val_accuracy: 0.9474\n",
      "Epoch 153/300\n",
      "112/112 [==============================] - 0s 107us/sample - loss: 0.1743 - accuracy: 0.9286 - val_loss: 0.1630 - val_accuracy: 0.9474\n",
      "Epoch 154/300\n",
      "112/112 [==============================] - 0s 124us/sample - loss: 0.1754 - accuracy: 0.9196 - val_loss: 0.1540 - val_accuracy: 0.9737\n",
      "Epoch 155/300\n",
      "112/112 [==============================] - 0s 115us/sample - loss: 0.1749 - accuracy: 0.9375 - val_loss: 0.1509 - val_accuracy: 0.9737\n",
      "Epoch 156/300\n",
      "112/112 [==============================] - 0s 116us/sample - loss: 0.1698 - accuracy: 0.9464 - val_loss: 0.1589 - val_accuracy: 0.9474\n",
      "Epoch 157/300\n",
      "112/112 [==============================] - 0s 116us/sample - loss: 0.1736 - accuracy: 0.9286 - val_loss: 0.1625 - val_accuracy: 0.9737\n",
      "Epoch 158/300\n",
      "112/112 [==============================] - 0s 98us/sample - loss: 0.1737 - accuracy: 0.9375 - val_loss: 0.1481 - val_accuracy: 0.9737\n",
      "Epoch 159/300\n",
      "112/112 [==============================] - 0s 116us/sample - loss: 0.1711 - accuracy: 0.9464 - val_loss: 0.1492 - val_accuracy: 0.9737\n",
      "Epoch 160/300\n",
      "112/112 [==============================] - 0s 116us/sample - loss: 0.1708 - accuracy: 0.9375 - val_loss: 0.1571 - val_accuracy: 0.9474\n",
      "Epoch 161/300\n",
      "112/112 [==============================] - 0s 116us/sample - loss: 0.1689 - accuracy: 0.9286 - val_loss: 0.1531 - val_accuracy: 0.9474\n",
      "Epoch 162/300\n",
      "112/112 [==============================] - 0s 134us/sample - loss: 0.1674 - accuracy: 0.9375 - val_loss: 0.1498 - val_accuracy: 0.9737\n",
      "Epoch 163/300\n",
      "112/112 [==============================] - 0s 107us/sample - loss: 0.1662 - accuracy: 0.9375 - val_loss: 0.1469 - val_accuracy: 0.9737\n",
      "Epoch 164/300\n",
      "112/112 [==============================] - 0s 116us/sample - loss: 0.1671 - accuracy: 0.9286 - val_loss: 0.1500 - val_accuracy: 0.9474\n",
      "Epoch 165/300\n",
      "112/112 [==============================] - 0s 107us/sample - loss: 0.1656 - accuracy: 0.9375 - val_loss: 0.1438 - val_accuracy: 0.9737\n",
      "Epoch 166/300\n"
     ]
    },
    {
     "name": "stdout",
     "output_type": "stream",
     "text": [
      "112/112 [==============================] - 0s 116us/sample - loss: 0.1665 - accuracy: 0.9464 - val_loss: 0.1462 - val_accuracy: 0.9737\n",
      "Epoch 167/300\n",
      "112/112 [==============================] - 0s 107us/sample - loss: 0.1639 - accuracy: 0.9375 - val_loss: 0.1454 - val_accuracy: 0.9737\n",
      "Epoch 168/300\n",
      "112/112 [==============================] - 0s 107us/sample - loss: 0.1637 - accuracy: 0.9375 - val_loss: 0.1421 - val_accuracy: 0.9737\n",
      "Epoch 169/300\n",
      "112/112 [==============================] - 0s 116us/sample - loss: 0.1643 - accuracy: 0.9375 - val_loss: 0.1427 - val_accuracy: 0.9737\n",
      "Epoch 170/300\n",
      "112/112 [==============================] - 0s 116us/sample - loss: 0.1621 - accuracy: 0.9286 - val_loss: 0.1504 - val_accuracy: 0.9474\n",
      "Epoch 171/300\n",
      "112/112 [==============================] - 0s 115us/sample - loss: 0.1635 - accuracy: 0.9286 - val_loss: 0.1445 - val_accuracy: 0.9737\n",
      "Epoch 172/300\n",
      "112/112 [==============================] - 0s 107us/sample - loss: 0.1615 - accuracy: 0.9375 - val_loss: 0.1398 - val_accuracy: 0.9737\n",
      "Epoch 173/300\n",
      "112/112 [==============================] - 0s 98us/sample - loss: 0.1628 - accuracy: 0.9286 - val_loss: 0.1435 - val_accuracy: 0.9737\n",
      "Epoch 174/300\n",
      "112/112 [==============================] - 0s 116us/sample - loss: 0.1609 - accuracy: 0.9375 - val_loss: 0.1398 - val_accuracy: 0.9737\n",
      "Epoch 175/300\n",
      "112/112 [==============================] - 0s 115us/sample - loss: 0.1608 - accuracy: 0.9375 - val_loss: 0.1388 - val_accuracy: 0.9737\n",
      "Epoch 176/300\n",
      "112/112 [==============================] - 0s 115us/sample - loss: 0.1616 - accuracy: 0.9375 - val_loss: 0.1392 - val_accuracy: 0.9737\n",
      "Epoch 177/300\n",
      "112/112 [==============================] - 0s 116us/sample - loss: 0.1591 - accuracy: 0.9286 - val_loss: 0.1411 - val_accuracy: 0.9474\n",
      "Epoch 178/300\n",
      "112/112 [==============================] - 0s 107us/sample - loss: 0.1601 - accuracy: 0.9375 - val_loss: 0.1401 - val_accuracy: 0.9737\n",
      "Epoch 179/300\n",
      "112/112 [==============================] - 0s 98us/sample - loss: 0.1606 - accuracy: 0.9375 - val_loss: 0.1343 - val_accuracy: 0.9737\n",
      "Epoch 180/300\n",
      "112/112 [==============================] - 0s 116us/sample - loss: 0.1577 - accuracy: 0.9375 - val_loss: 0.1379 - val_accuracy: 0.9737\n",
      "Epoch 181/300\n",
      "112/112 [==============================] - 0s 107us/sample - loss: 0.1630 - accuracy: 0.9375 - val_loss: 0.1480 - val_accuracy: 0.9737\n",
      "Epoch 182/300\n",
      "112/112 [==============================] - 0s 116us/sample - loss: 0.1575 - accuracy: 0.9464 - val_loss: 0.1349 - val_accuracy: 0.9737\n",
      "Epoch 183/300\n",
      "112/112 [==============================] - 0s 115us/sample - loss: 0.1566 - accuracy: 0.9375 - val_loss: 0.1341 - val_accuracy: 0.9737\n",
      "Epoch 184/300\n",
      "112/112 [==============================] - 0s 98us/sample - loss: 0.1563 - accuracy: 0.9464 - val_loss: 0.1332 - val_accuracy: 0.9737\n",
      "Epoch 185/300\n",
      "112/112 [==============================] - 0s 107us/sample - loss: 0.1558 - accuracy: 0.9375 - val_loss: 0.1374 - val_accuracy: 0.9474\n",
      "Epoch 186/300\n",
      "112/112 [==============================] - 0s 115us/sample - loss: 0.1562 - accuracy: 0.9286 - val_loss: 0.1356 - val_accuracy: 0.9737\n",
      "Epoch 187/300\n",
      "112/112 [==============================] - 0s 116us/sample - loss: 0.1561 - accuracy: 0.9286 - val_loss: 0.1391 - val_accuracy: 0.9474\n",
      "Epoch 188/300\n",
      "112/112 [==============================] - 0s 107us/sample - loss: 0.1558 - accuracy: 0.9286 - val_loss: 0.1352 - val_accuracy: 0.9737\n",
      "Epoch 189/300\n",
      "112/112 [==============================] - 0s 98us/sample - loss: 0.1537 - accuracy: 0.9375 - val_loss: 0.1312 - val_accuracy: 0.9737\n",
      "Epoch 190/300\n",
      "112/112 [==============================] - 0s 107us/sample - loss: 0.1555 - accuracy: 0.9375 - val_loss: 0.1313 - val_accuracy: 0.9737\n",
      "Epoch 191/300\n",
      "112/112 [==============================] - 0s 116us/sample - loss: 0.1537 - accuracy: 0.9464 - val_loss: 0.1298 - val_accuracy: 0.9737\n",
      "Epoch 192/300\n",
      "112/112 [==============================] - 0s 107us/sample - loss: 0.1526 - accuracy: 0.9375 - val_loss: 0.1320 - val_accuracy: 0.9737\n",
      "Epoch 193/300\n",
      "112/112 [==============================] - 0s 116us/sample - loss: 0.1523 - accuracy: 0.9375 - val_loss: 0.1351 - val_accuracy: 0.9474\n",
      "Epoch 194/300\n",
      "112/112 [==============================] - 0s 98us/sample - loss: 0.1528 - accuracy: 0.9286 - val_loss: 0.1340 - val_accuracy: 0.9474\n",
      "Epoch 195/300\n",
      "112/112 [==============================] - 0s 98us/sample - loss: 0.1540 - accuracy: 0.9375 - val_loss: 0.1273 - val_accuracy: 0.9737\n",
      "Epoch 196/300\n",
      "112/112 [==============================] - 0s 125us/sample - loss: 0.1516 - accuracy: 0.9464 - val_loss: 0.1286 - val_accuracy: 0.9737\n",
      "Epoch 197/300\n",
      "112/112 [==============================] - 0s 116us/sample - loss: 0.1518 - accuracy: 0.9286 - val_loss: 0.1363 - val_accuracy: 0.9474\n",
      "Epoch 198/300\n",
      "112/112 [==============================] - 0s 107us/sample - loss: 0.1537 - accuracy: 0.9375 - val_loss: 0.1366 - val_accuracy: 0.9474\n",
      "Epoch 199/300\n",
      "112/112 [==============================] - 0s 116us/sample - loss: 0.1496 - accuracy: 0.9375 - val_loss: 0.1265 - val_accuracy: 0.9737\n",
      "Epoch 200/300\n",
      "112/112 [==============================] - 0s 116us/sample - loss: 0.1519 - accuracy: 0.9464 - val_loss: 0.1249 - val_accuracy: 0.9737\n",
      "Epoch 201/300\n",
      "112/112 [==============================] - 0s 98us/sample - loss: 0.1509 - accuracy: 0.9464 - val_loss: 0.1265 - val_accuracy: 0.9737\n",
      "Epoch 202/300\n",
      "112/112 [==============================] - 0s 116us/sample - loss: 0.1511 - accuracy: 0.9286 - val_loss: 0.1336 - val_accuracy: 0.9474\n",
      "Epoch 203/300\n",
      "112/112 [==============================] - 0s 116us/sample - loss: 0.1503 - accuracy: 0.9286 - val_loss: 0.1276 - val_accuracy: 0.9737\n",
      "Epoch 204/300\n",
      "112/112 [==============================] - 0s 124us/sample - loss: 0.1497 - accuracy: 0.9464 - val_loss: 0.1246 - val_accuracy: 0.9737\n",
      "Epoch 205/300\n",
      "112/112 [==============================] - 0s 107us/sample - loss: 0.1489 - accuracy: 0.9375 - val_loss: 0.1304 - val_accuracy: 0.9474\n",
      "Epoch 206/300\n",
      "112/112 [==============================] - 0s 107us/sample - loss: 0.1517 - accuracy: 0.9286 - val_loss: 0.1257 - val_accuracy: 0.9737\n",
      "Epoch 207/300\n",
      "112/112 [==============================] - 0s 98us/sample - loss: 0.1491 - accuracy: 0.9375 - val_loss: 0.1308 - val_accuracy: 0.9474\n",
      "Epoch 208/300\n",
      "112/112 [==============================] - 0s 116us/sample - loss: 0.1486 - accuracy: 0.9464 - val_loss: 0.1257 - val_accuracy: 0.9737\n",
      "Epoch 209/300\n",
      "112/112 [==============================] - 0s 116us/sample - loss: 0.1483 - accuracy: 0.9375 - val_loss: 0.1245 - val_accuracy: 0.9737\n",
      "Epoch 210/300\n",
      "112/112 [==============================] - 0s 107us/sample - loss: 0.1482 - accuracy: 0.9286 - val_loss: 0.1277 - val_accuracy: 0.9474\n",
      "Epoch 211/300\n",
      "112/112 [==============================] - 0s 107us/sample - loss: 0.1536 - accuracy: 0.9286 - val_loss: 0.1299 - val_accuracy: 0.9474\n",
      "Epoch 212/300\n",
      "112/112 [==============================] - 0s 98us/sample - loss: 0.1463 - accuracy: 0.9375 - val_loss: 0.1208 - val_accuracy: 0.9737\n",
      "Epoch 213/300\n",
      "112/112 [==============================] - 0s 107us/sample - loss: 0.1479 - accuracy: 0.9464 - val_loss: 0.1207 - val_accuracy: 0.9737\n",
      "Epoch 214/300\n",
      "112/112 [==============================] - 0s 115us/sample - loss: 0.1481 - accuracy: 0.9464 - val_loss: 0.1212 - val_accuracy: 0.9737\n",
      "Epoch 215/300\n",
      "112/112 [==============================] - 0s 115us/sample - loss: 0.1455 - accuracy: 0.9375 - val_loss: 0.1264 - val_accuracy: 0.9474\n",
      "Epoch 216/300\n",
      "112/112 [==============================] - 0s 116us/sample - loss: 0.1478 - accuracy: 0.9375 - val_loss: 0.1297 - val_accuracy: 0.9474\n",
      "Epoch 217/300\n",
      "112/112 [==============================] - 0s 116us/sample - loss: 0.1454 - accuracy: 0.9375 - val_loss: 0.1220 - val_accuracy: 0.9737\n",
      "Epoch 218/300\n",
      "112/112 [==============================] - 0s 98us/sample - loss: 0.1468 - accuracy: 0.9464 - val_loss: 0.1184 - val_accuracy: 0.9737\n",
      "Epoch 219/300\n",
      "112/112 [==============================] - 0s 98us/sample - loss: 0.1481 - accuracy: 0.9464 - val_loss: 0.1233 - val_accuracy: 0.9737\n",
      "Epoch 220/300\n",
      "112/112 [==============================] - 0s 125us/sample - loss: 0.1463 - accuracy: 0.9286 - val_loss: 0.1255 - val_accuracy: 0.9474\n",
      "Epoch 221/300\n"
     ]
    },
    {
     "name": "stdout",
     "output_type": "stream",
     "text": [
      "112/112 [==============================] - 0s 116us/sample - loss: 0.1432 - accuracy: 0.9375 - val_loss: 0.1189 - val_accuracy: 0.9737\n",
      "Epoch 222/300\n",
      "112/112 [==============================] - 0s 116us/sample - loss: 0.1508 - accuracy: 0.9375 - val_loss: 0.1168 - val_accuracy: 0.9737\n",
      "Epoch 223/300\n",
      "112/112 [==============================] - 0s 116us/sample - loss: 0.1425 - accuracy: 0.9375 - val_loss: 0.1248 - val_accuracy: 0.9474\n",
      "Epoch 224/300\n",
      "112/112 [==============================] - 0s 107us/sample - loss: 0.1471 - accuracy: 0.9375 - val_loss: 0.1346 - val_accuracy: 0.9474\n",
      "Epoch 225/300\n",
      "112/112 [==============================] - 0s 98us/sample - loss: 0.1467 - accuracy: 0.9375 - val_loss: 0.1246 - val_accuracy: 0.9474\n",
      "Epoch 226/300\n",
      "112/112 [==============================] - 0s 124us/sample - loss: 0.1461 - accuracy: 0.9464 - val_loss: 0.1161 - val_accuracy: 0.9737\n",
      "Epoch 227/300\n",
      "112/112 [==============================] - 0s 134us/sample - loss: 0.1450 - accuracy: 0.9464 - val_loss: 0.1177 - val_accuracy: 0.9737\n",
      "Epoch 228/300\n",
      "112/112 [==============================] - 0s 125us/sample - loss: 0.1446 - accuracy: 0.9375 - val_loss: 0.1216 - val_accuracy: 0.9474\n",
      "Epoch 229/300\n",
      "112/112 [==============================] - 0s 116us/sample - loss: 0.1432 - accuracy: 0.9375 - val_loss: 0.1181 - val_accuracy: 0.9737\n",
      "Epoch 230/300\n",
      "112/112 [==============================] - 0s 107us/sample - loss: 0.1437 - accuracy: 0.9375 - val_loss: 0.1186 - val_accuracy: 0.9737\n",
      "Epoch 231/300\n",
      "112/112 [==============================] - 0s 116us/sample - loss: 0.1435 - accuracy: 0.9375 - val_loss: 0.1168 - val_accuracy: 0.9737\n",
      "Epoch 232/300\n",
      "112/112 [==============================] - 0s 98us/sample - loss: 0.1427 - accuracy: 0.9375 - val_loss: 0.1193 - val_accuracy: 0.9737\n",
      "Epoch 233/300\n",
      "112/112 [==============================] - 0s 98us/sample - loss: 0.1433 - accuracy: 0.9375 - val_loss: 0.1206 - val_accuracy: 0.9474\n",
      "Epoch 234/300\n",
      "112/112 [==============================] - 0s 125us/sample - loss: 0.1415 - accuracy: 0.9286 - val_loss: 0.1182 - val_accuracy: 0.9737\n",
      "Epoch 235/300\n",
      "112/112 [==============================] - 0s 116us/sample - loss: 0.1417 - accuracy: 0.9375 - val_loss: 0.1155 - val_accuracy: 0.9737\n",
      "Epoch 236/300\n",
      "112/112 [==============================] - 0s 107us/sample - loss: 0.1415 - accuracy: 0.9464 - val_loss: 0.1154 - val_accuracy: 0.9737\n",
      "Epoch 237/300\n",
      "112/112 [==============================] - 0s 107us/sample - loss: 0.1444 - accuracy: 0.9375 - val_loss: 0.1221 - val_accuracy: 0.9474\n",
      "Epoch 238/300\n",
      "112/112 [==============================] - 0s 116us/sample - loss: 0.1430 - accuracy: 0.9464 - val_loss: 0.1164 - val_accuracy: 0.9737\n",
      "Epoch 239/300\n",
      "112/112 [==============================] - 0s 107us/sample - loss: 0.1414 - accuracy: 0.9286 - val_loss: 0.1190 - val_accuracy: 0.9737\n",
      "Epoch 240/300\n",
      "112/112 [==============================] - 0s 116us/sample - loss: 0.1414 - accuracy: 0.9286 - val_loss: 0.1175 - val_accuracy: 0.9737\n",
      "Epoch 241/300\n",
      "112/112 [==============================] - 0s 116us/sample - loss: 0.1392 - accuracy: 0.9464 - val_loss: 0.1128 - val_accuracy: 0.9737\n",
      "Epoch 242/300\n",
      "112/112 [==============================] - 0s 115us/sample - loss: 0.1420 - accuracy: 0.9464 - val_loss: 0.1134 - val_accuracy: 0.9737\n",
      "Epoch 243/300\n",
      "112/112 [==============================] - 0s 107us/sample - loss: 0.1398 - accuracy: 0.9375 - val_loss: 0.1154 - val_accuracy: 0.9737\n",
      "Epoch 244/300\n",
      "112/112 [==============================] - 0s 116us/sample - loss: 0.1421 - accuracy: 0.9286 - val_loss: 0.1208 - val_accuracy: 0.9474\n",
      "Epoch 245/300\n",
      "112/112 [==============================] - 0s 98us/sample - loss: 0.1442 - accuracy: 0.9375 - val_loss: 0.1122 - val_accuracy: 0.9737\n",
      "Epoch 246/300\n",
      "112/112 [==============================] - 0s 125us/sample - loss: 0.1413 - accuracy: 0.9464 - val_loss: 0.1176 - val_accuracy: 0.9737\n",
      "Epoch 247/300\n",
      "112/112 [==============================] - 0s 116us/sample - loss: 0.1407 - accuracy: 0.9375 - val_loss: 0.1149 - val_accuracy: 0.9737\n",
      "Epoch 248/300\n",
      "112/112 [==============================] - 0s 116us/sample - loss: 0.1412 - accuracy: 0.9375 - val_loss: 0.1110 - val_accuracy: 0.9737\n",
      "Epoch 249/300\n",
      "112/112 [==============================] - 0s 107us/sample - loss: 0.1420 - accuracy: 0.9375 - val_loss: 0.1169 - val_accuracy: 0.9474\n",
      "Epoch 250/300\n",
      "112/112 [==============================] - 0s 107us/sample - loss: 0.1444 - accuracy: 0.9286 - val_loss: 0.1116 - val_accuracy: 0.9737\n",
      "Epoch 251/300\n",
      "112/112 [==============================] - 0s 98us/sample - loss: 0.1495 - accuracy: 0.9464 - val_loss: 0.1238 - val_accuracy: 0.9737\n",
      "Epoch 252/300\n",
      "112/112 [==============================] - 0s 107us/sample - loss: 0.1391 - accuracy: 0.9554 - val_loss: 0.1112 - val_accuracy: 0.9737\n",
      "Epoch 253/300\n",
      "112/112 [==============================] - 0s 116us/sample - loss: 0.1406 - accuracy: 0.9464 - val_loss: 0.1096 - val_accuracy: 0.9737\n",
      "Epoch 254/300\n",
      "112/112 [==============================] - 0s 116us/sample - loss: 0.1427 - accuracy: 0.9375 - val_loss: 0.1139 - val_accuracy: 0.9737\n",
      "Epoch 255/300\n",
      "112/112 [==============================] - 0s 107us/sample - loss: 0.1388 - accuracy: 0.9375 - val_loss: 0.1138 - val_accuracy: 0.9737\n",
      "Epoch 256/300\n",
      "112/112 [==============================] - 0s 107us/sample - loss: 0.1376 - accuracy: 0.9464 - val_loss: 0.1121 - val_accuracy: 0.9737\n",
      "Epoch 257/300\n",
      "112/112 [==============================] - 0s 107us/sample - loss: 0.1380 - accuracy: 0.9464 - val_loss: 0.1137 - val_accuracy: 0.9737\n",
      "Epoch 258/300\n",
      "112/112 [==============================] - 0s 116us/sample - loss: 0.1386 - accuracy: 0.9286 - val_loss: 0.1130 - val_accuracy: 0.9737\n",
      "Epoch 259/300\n",
      "112/112 [==============================] - 0s 107us/sample - loss: 0.1402 - accuracy: 0.9375 - val_loss: 0.1089 - val_accuracy: 0.9737\n",
      "Epoch 260/300\n",
      "112/112 [==============================] - 0s 107us/sample - loss: 0.1389 - accuracy: 0.9464 - val_loss: 0.1090 - val_accuracy: 0.9737\n",
      "Epoch 261/300\n",
      "112/112 [==============================] - 0s 98us/sample - loss: 0.1376 - accuracy: 0.9375 - val_loss: 0.1142 - val_accuracy: 0.9474\n",
      "Epoch 262/300\n",
      "112/112 [==============================] - 0s 107us/sample - loss: 0.1378 - accuracy: 0.9286 - val_loss: 0.1141 - val_accuracy: 0.9474\n",
      "Epoch 263/300\n",
      "112/112 [==============================] - 0s 125us/sample - loss: 0.1395 - accuracy: 0.9286 - val_loss: 0.1094 - val_accuracy: 0.9737\n",
      "Epoch 264/300\n",
      "112/112 [==============================] - 0s 116us/sample - loss: 0.1401 - accuracy: 0.9375 - val_loss: 0.1133 - val_accuracy: 0.9737\n",
      "Epoch 265/300\n",
      "112/112 [==============================] - 0s 107us/sample - loss: 0.1379 - accuracy: 0.9375 - val_loss: 0.1126 - val_accuracy: 0.9737\n",
      "Epoch 266/300\n",
      "112/112 [==============================] - 0s 107us/sample - loss: 0.1359 - accuracy: 0.9464 - val_loss: 0.1073 - val_accuracy: 0.9737\n",
      "Epoch 267/300\n",
      "112/112 [==============================] - 0s 107us/sample - loss: 0.1374 - accuracy: 0.9464 - val_loss: 0.1077 - val_accuracy: 0.9737\n",
      "Epoch 268/300\n",
      "112/112 [==============================] - 0s 98us/sample - loss: 0.1359 - accuracy: 0.9554 - val_loss: 0.1120 - val_accuracy: 0.9737\n",
      "Epoch 269/300\n",
      "112/112 [==============================] - 0s 116us/sample - loss: 0.1358 - accuracy: 0.9464 - val_loss: 0.1146 - val_accuracy: 0.9474\n",
      "Epoch 270/300\n",
      "112/112 [==============================] - 0s 116us/sample - loss: 0.1374 - accuracy: 0.9375 - val_loss: 0.1152 - val_accuracy: 0.9474\n",
      "Epoch 271/300\n",
      "112/112 [==============================] - 0s 107us/sample - loss: 0.1415 - accuracy: 0.9375 - val_loss: 0.1193 - val_accuracy: 0.9474\n",
      "Epoch 272/300\n",
      "112/112 [==============================] - 0s 116us/sample - loss: 0.1361 - accuracy: 0.9375 - val_loss: 0.1092 - val_accuracy: 0.9737\n",
      "Epoch 273/300\n",
      "112/112 [==============================] - 0s 107us/sample - loss: 0.1394 - accuracy: 0.9375 - val_loss: 0.1060 - val_accuracy: 0.9737\n",
      "Epoch 274/300\n",
      "112/112 [==============================] - 0s 116us/sample - loss: 0.1386 - accuracy: 0.9464 - val_loss: 0.1096 - val_accuracy: 0.9737\n",
      "Epoch 275/300\n",
      "112/112 [==============================] - 0s 107us/sample - loss: 0.1357 - accuracy: 0.9375 - val_loss: 0.1085 - val_accuracy: 0.9737\n",
      "Epoch 276/300\n"
     ]
    },
    {
     "name": "stdout",
     "output_type": "stream",
     "text": [
      "112/112 [==============================] - 0s 107us/sample - loss: 0.1368 - accuracy: 0.9375 - val_loss: 0.1079 - val_accuracy: 0.9737\n",
      "Epoch 277/300\n",
      "112/112 [==============================] - 0s 107us/sample - loss: 0.1360 - accuracy: 0.9554 - val_loss: 0.1125 - val_accuracy: 0.9474\n",
      "Epoch 278/300\n",
      "112/112 [==============================] - 0s 98us/sample - loss: 0.1377 - accuracy: 0.9286 - val_loss: 0.1086 - val_accuracy: 0.9737\n",
      "Epoch 279/300\n",
      "112/112 [==============================] - 0s 98us/sample - loss: 0.1359 - accuracy: 0.9375 - val_loss: 0.1145 - val_accuracy: 0.9474\n",
      "Epoch 280/300\n",
      "112/112 [==============================] - 0s 115us/sample - loss: 0.1380 - accuracy: 0.9375 - val_loss: 0.1154 - val_accuracy: 0.9474\n",
      "Epoch 281/300\n",
      "112/112 [==============================] - 0s 107us/sample - loss: 0.1374 - accuracy: 0.9286 - val_loss: 0.1064 - val_accuracy: 0.9737\n",
      "Epoch 282/300\n",
      "112/112 [==============================] - 0s 107us/sample - loss: 0.1351 - accuracy: 0.9375 - val_loss: 0.1058 - val_accuracy: 0.9737\n",
      "Epoch 283/300\n",
      "112/112 [==============================] - 0s 107us/sample - loss: 0.1341 - accuracy: 0.9375 - val_loss: 0.1072 - val_accuracy: 0.9737\n",
      "Epoch 284/300\n",
      "112/112 [==============================] - 0s 98us/sample - loss: 0.1347 - accuracy: 0.9375 - val_loss: 0.1108 - val_accuracy: 0.9474\n",
      "Epoch 285/300\n",
      "112/112 [==============================] - 0s 98us/sample - loss: 0.1347 - accuracy: 0.9375 - val_loss: 0.1114 - val_accuracy: 0.9474\n",
      "Epoch 286/300\n",
      "112/112 [==============================] - 0s 115us/sample - loss: 0.1338 - accuracy: 0.9375 - val_loss: 0.1073 - val_accuracy: 0.9737\n",
      "Epoch 287/300\n",
      "112/112 [==============================] - 0s 116us/sample - loss: 0.1367 - accuracy: 0.9464 - val_loss: 0.1045 - val_accuracy: 0.9737\n",
      "Epoch 288/300\n",
      "112/112 [==============================] - 0s 116us/sample - loss: 0.1352 - accuracy: 0.9375 - val_loss: 0.1099 - val_accuracy: 0.9737\n",
      "Epoch 289/300\n",
      "112/112 [==============================] - 0s 89us/sample - loss: 0.1342 - accuracy: 0.9375 - val_loss: 0.1097 - val_accuracy: 0.9737\n",
      "Epoch 290/300\n",
      "112/112 [==============================] - 0s 98us/sample - loss: 0.1339 - accuracy: 0.9375 - val_loss: 0.1080 - val_accuracy: 0.9737\n",
      "Epoch 291/300\n",
      "112/112 [==============================] - 0s 115us/sample - loss: 0.1360 - accuracy: 0.9375 - val_loss: 0.1051 - val_accuracy: 0.9737\n",
      "Epoch 292/300\n",
      "112/112 [==============================] - 0s 116us/sample - loss: 0.1348 - accuracy: 0.9464 - val_loss: 0.1110 - val_accuracy: 0.9474\n",
      "Epoch 293/300\n",
      "112/112 [==============================] - 0s 116us/sample - loss: 0.1340 - accuracy: 0.9464 - val_loss: 0.1075 - val_accuracy: 0.9737\n",
      "Epoch 294/300\n",
      "112/112 [==============================] - 0s 107us/sample - loss: 0.1327 - accuracy: 0.9464 - val_loss: 0.1059 - val_accuracy: 0.9737\n",
      "Epoch 295/300\n",
      "112/112 [==============================] - 0s 98us/sample - loss: 0.1334 - accuracy: 0.9375 - val_loss: 0.1067 - val_accuracy: 0.9737\n",
      "Epoch 296/300\n",
      "112/112 [==============================] - 0s 107us/sample - loss: 0.1326 - accuracy: 0.9464 - val_loss: 0.1069 - val_accuracy: 0.9737\n",
      "Epoch 297/300\n",
      "112/112 [==============================] - 0s 116us/sample - loss: 0.1334 - accuracy: 0.9464 - val_loss: 0.1037 - val_accuracy: 0.9737\n",
      "Epoch 298/300\n",
      "112/112 [==============================] - 0s 115us/sample - loss: 0.1323 - accuracy: 0.9375 - val_loss: 0.1067 - val_accuracy: 0.9737\n",
      "Epoch 299/300\n",
      "112/112 [==============================] - 0s 116us/sample - loss: 0.1345 - accuracy: 0.9375 - val_loss: 0.1079 - val_accuracy: 0.9737\n",
      "Epoch 300/300\n",
      "112/112 [==============================] - 0s 116us/sample - loss: 0.1334 - accuracy: 0.9554 - val_loss: 0.1047 - val_accuracy: 0.9737\n"
     ]
    },
    {
     "data": {
      "text/plain": [
       "<tensorflow.python.keras.callbacks.History at 0x262d856f4a8>"
      ]
     },
     "execution_count": 16,
     "metadata": {},
     "output_type": "execute_result"
    }
   ],
   "source": [
    "model=modelcreating()\n",
    "model.fit(x=x_train,y=y_train,\n",
    "          validation_data=(x_test,y_test),\n",
    "         epochs=300,batch_size=20,verbose=1,\n",
    "         callbacks=[callbacks])"
   ]
  },
  {
   "cell_type": "code",
   "execution_count": 17,
   "metadata": {},
   "outputs": [
    {
     "data": {
      "text/html": [
       "<div>\n",
       "<style scoped>\n",
       "    .dataframe tbody tr th:only-of-type {\n",
       "        vertical-align: middle;\n",
       "    }\n",
       "\n",
       "    .dataframe tbody tr th {\n",
       "        vertical-align: top;\n",
       "    }\n",
       "\n",
       "    .dataframe thead th {\n",
       "        text-align: right;\n",
       "    }\n",
       "</style>\n",
       "<table border=\"1\" class=\"dataframe\">\n",
       "  <thead>\n",
       "    <tr style=\"text-align: right;\">\n",
       "      <th></th>\n",
       "      <th>loss</th>\n",
       "      <th>accuracy</th>\n",
       "      <th>val_loss</th>\n",
       "      <th>val_accuracy</th>\n",
       "    </tr>\n",
       "  </thead>\n",
       "  <tbody>\n",
       "    <tr>\n",
       "      <th>0</th>\n",
       "      <td>1.115459</td>\n",
       "      <td>0.660714</td>\n",
       "      <td>1.024922</td>\n",
       "      <td>0.684211</td>\n",
       "    </tr>\n",
       "    <tr>\n",
       "      <th>1</th>\n",
       "      <td>1.056144</td>\n",
       "      <td>0.660714</td>\n",
       "      <td>1.008288</td>\n",
       "      <td>0.684211</td>\n",
       "    </tr>\n",
       "    <tr>\n",
       "      <th>2</th>\n",
       "      <td>1.032876</td>\n",
       "      <td>0.660714</td>\n",
       "      <td>1.002326</td>\n",
       "      <td>0.684211</td>\n",
       "    </tr>\n",
       "    <tr>\n",
       "      <th>3</th>\n",
       "      <td>1.020487</td>\n",
       "      <td>0.660714</td>\n",
       "      <td>0.991793</td>\n",
       "      <td>0.684211</td>\n",
       "    </tr>\n",
       "    <tr>\n",
       "      <th>4</th>\n",
       "      <td>1.007508</td>\n",
       "      <td>0.660714</td>\n",
       "      <td>0.975493</td>\n",
       "      <td>0.684211</td>\n",
       "    </tr>\n",
       "  </tbody>\n",
       "</table>\n",
       "</div>"
      ],
      "text/plain": [
       "       loss  accuracy  val_loss  val_accuracy\n",
       "0  1.115459  0.660714  1.024922      0.684211\n",
       "1  1.056144  0.660714  1.008288      0.684211\n",
       "2  1.032876  0.660714  1.002326      0.684211\n",
       "3  1.020487  0.660714  0.991793      0.684211\n",
       "4  1.007508  0.660714  0.975493      0.684211"
      ]
     },
     "execution_count": 17,
     "metadata": {},
     "output_type": "execute_result"
    }
   ],
   "source": [
    "loss=pd.DataFrame(model.history.history)\n",
    "loss.head()"
   ]
  },
  {
   "cell_type": "code",
   "execution_count": 18,
   "metadata": {},
   "outputs": [
    {
     "data": {
      "text/plain": [
       "<matplotlib.axes._subplots.AxesSubplot at 0x262d8660ac8>"
      ]
     },
     "execution_count": 18,
     "metadata": {},
     "output_type": "execute_result"
    },
    {
     "data": {
      "text/plain": [
       "<Figure size 720x432 with 0 Axes>"
      ]
     },
     "metadata": {},
     "output_type": "display_data"
    },
    {
     "data": {
      "image/png": "[encoded data removed]",
      "text/plain": [
       "<Figure size 432x288 with 1 Axes>"
      ]
     },
     "metadata": {
      "needs_background": "light"
     },
     "output_type": "display_data"
    }
   ],
   "source": [
    "plt.figure(figsize=(10,6))\n",
    "loss[[\"loss\",\"val_loss\"]].plot()"
   ]
  },
  {
   "cell_type": "code",
   "execution_count": 19,
   "metadata": {},
   "outputs": [
    {
     "data": {
      "text/plain": [
       "<matplotlib.axes._subplots.AxesSubplot at 0x262da2b76a0>"
      ]
     },
     "execution_count": 19,
     "metadata": {},
     "output_type": "execute_result"
    },
    {
     "data": {
      "text/plain": [
       "<Figure size 720x432 with 0 Axes>"
      ]
     },
     "metadata": {},
     "output_type": "display_data"
    },
    {
     "data": {
      "image/png": "[encoded data removed]",
      "text/plain": [
       "<Figure size 432x288 with 1 Axes>"
      ]
     },
     "metadata": {
      "needs_background": "light"
     },
     "output_type": "display_data"
    }
   ],
   "source": [
    "plt.figure(figsize=(10,6))\n",
    "loss[[\"accuracy\",\"val_accuracy\"]].plot()"
   ]
  },
  {
   "cell_type": "code",
   "execution_count": 20,
   "metadata": {},
   "outputs": [
    {
     "data": {
      "text/plain": [
       "array([0, 2, 0, 0, 2, 1, 2, 0, 2, 1, 2, 1, 2, 2, 1, 2, 2, 1, 1, 0, 0, 2,\n",
       "       0, 0, 1, 1, 1, 2, 0, 1, 0, 1, 0, 0, 2, 2, 1, 2], dtype=int64)"
      ]
     },
     "execution_count": 20,
     "metadata": {},
     "output_type": "execute_result"
    }
   ],
   "source": [
    "y_pred=model.predict_classes(x_test)\n",
    "y_test_dummy=y_test.toarray()\n",
    "y_test_dummy=np.argmax(y_test_dummy,axis=1)\n",
    "y_test_dummy"
   ]
  },
  {
   "cell_type": "code",
   "execution_count": 21,
   "metadata": {},
   "outputs": [
    {
     "name": "stdout",
     "output_type": "stream",
     "text": [
      "[[12  0  0]\n",
      " [ 0 11  1]\n",
      " [ 0  0 14]]\n",
      "              precision    recall  f1-score   support\n",
      "\n",
      "           0       1.00      1.00      1.00        12\n",
      "           1       1.00      0.92      0.96        12\n",
      "           2       0.93      1.00      0.97        14\n",
      "\n",
      "    accuracy                           0.97        38\n",
      "   macro avg       0.98      0.97      0.97        38\n",
      "weighted avg       0.98      0.97      0.97        38\n",
      "\n"
     ]
    }
   ],
   "source": [
    "# analysing the results\n",
    "print(confusion_matrix(y_test_dummy,y_pred))\n",
    "print(classification_report(y_test_dummy,y_pred))"
   ]
  },
  {
   "cell_type": "code",
   "execution_count": 22,
   "metadata": {},
   "outputs": [
    {
     "name": "stdout",
     "output_type": "stream",
     "text": [
      "38/38 [==============================] - 0s 131us/sample - loss: 0.1047 - accuracy: 0.9737\n",
      "accuracy 97.36841917037964\n"
     ]
    }
   ],
   "source": [
    "scores=model.evaluate(x_test,y_test)\n",
    "print(model.metrics_names[1],scores[1]*100)"
   ]
  },
  {
   "cell_type": "code",
   "execution_count": 23,
   "metadata": {},
   "outputs": [
    {
     "name": "stdout",
     "output_type": "stream",
     "text": [
      "Model: \"sequential\"\n",
      "_________________________________________________________________\n",
      "Layer (type)                 Output Shape              Param #   \n",
      "=================================================================\n",
      "dense (Dense)                (None, 15)                60        \n",
      "_________________________________________________________________\n",
      "dense_1 (Dense)              (None, 6)                 96        \n",
      "_________________________________________________________________\n",
      "dense_2 (Dense)              (None, 3)                 21        \n",
      "=================================================================\n",
      "Total params: 177\n",
      "Trainable params: 177\n",
      "Non-trainable params: 0\n",
      "_________________________________________________________________\n"
     ]
    }
   ],
   "source": [
    "model.summary()"
   ]
  },
  {
   "cell_type": "code",
   "execution_count": null,
   "metadata": {},
   "outputs": [],
   "source": []
  }
 ],
 "metadata": {
  "kernelspec": {
   "display_name": "Python 3",
   "language": "python",
   "name": "python3"
  },
  "language_info": {
   "codemirror_mode": {
    "name": "ipython",
    "version": 3
   },
   "file_extension": ".py",
   "mimetype": "text/x-python",
   "name": "python",
   "nbconvert_exporter": "python",
   "pygments_lexer": "ipython3",
   "version": "3.7.3"
  }
 },
 "nbformat": 4,
 "nbformat_minor": 2
}
